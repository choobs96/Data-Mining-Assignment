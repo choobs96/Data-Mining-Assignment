{
 "cells": [
  {
   "cell_type": "code",
   "execution_count": 8,
   "metadata": {},
   "outputs": [],
   "source": [
    "import pandas as pd\n",
    "from pathlib import Path\n",
    "import os"
   ]
  },
  {
   "cell_type": "code",
   "execution_count": 9,
   "metadata": {},
   "outputs": [],
   "source": [
    "path = \"/home/choobs96/Desktop/Cleaned_data/\""
   ]
  },
  {
   "cell_type": "code",
   "execution_count": 10,
   "metadata": {},
   "outputs": [],
   "source": [
    "data_folder = Path(path)"
   ]
  },
  {
   "cell_type": "code",
   "execution_count": 11,
   "metadata": {},
   "outputs": [],
   "source": [
    "data =os.listdir(data_folder)"
   ]
  },
  {
   "cell_type": "code",
   "execution_count": 35,
   "metadata": {},
   "outputs": [],
   "source": [
    "x = pd.read_csv(path+data[0],sep=\"|\").drop(['Unnamed: 0'], axis=1)"
   ]
  },
  {
   "cell_type": "code",
   "execution_count": 36,
   "metadata": {},
   "outputs": [],
   "source": [
    "x['Title'] = x[\"Title\"].str.replace(',', ' ')"
   ]
  },
  {
   "cell_type": "code",
   "execution_count": 38,
   "metadata": {},
   "outputs": [
    {
     "data": {
      "text/html": [
       "<div>\n",
       "<style scoped>\n",
       "    .dataframe tbody tr th:only-of-type {\n",
       "        vertical-align: middle;\n",
       "    }\n",
       "\n",
       "    .dataframe tbody tr th {\n",
       "        vertical-align: top;\n",
       "    }\n",
       "\n",
       "    .dataframe thead th {\n",
       "        text-align: right;\n",
       "    }\n",
       "</style>\n",
       "<table border=\"1\" class=\"dataframe\">\n",
       "  <thead>\n",
       "    <tr style=\"text-align: right;\">\n",
       "      <th></th>\n",
       "      <th>Announcement_Date</th>\n",
       "      <th>Company_Name</th>\n",
       "      <th>Title</th>\n",
       "      <th>Company_Code</th>\n",
       "    </tr>\n",
       "  </thead>\n",
       "  <tbody>\n",
       "    <tr>\n",
       "      <th>0</th>\n",
       "      <td>2020-03-18</td>\n",
       "      <td>IOI PROPERTIES GROUP BERHAD</td>\n",
       "      <td>Changes in Sub. S-hldr's Int (Section 138 of C...</td>\n",
       "      <td>5249</td>\n",
       "    </tr>\n",
       "    <tr>\n",
       "      <th>1</th>\n",
       "      <td>2020-03-17</td>\n",
       "      <td>IOI PROPERTIES GROUP BERHAD</td>\n",
       "      <td>DEALINGS IN LISTED SECURITIES (CHAPTER 14 OF L...</td>\n",
       "      <td>5249</td>\n",
       "    </tr>\n",
       "    <tr>\n",
       "      <th>2</th>\n",
       "      <td>2020-03-17</td>\n",
       "      <td>IOI PROPERTIES GROUP BERHAD</td>\n",
       "      <td>Changes in Sub. S-hldr's Int (Section 138 of C...</td>\n",
       "      <td>5249</td>\n",
       "    </tr>\n",
       "    <tr>\n",
       "      <th>3</th>\n",
       "      <td>2020-03-17</td>\n",
       "      <td>IOI PROPERTIES GROUP BERHAD</td>\n",
       "      <td>Changes in Sub. S-hldr's Int (Section 138 of C...</td>\n",
       "      <td>5249</td>\n",
       "    </tr>\n",
       "    <tr>\n",
       "      <th>4</th>\n",
       "      <td>2020-03-17</td>\n",
       "      <td>IOI PROPERTIES GROUP BERHAD</td>\n",
       "      <td>Changes in Director's Interest (Section 219 of...</td>\n",
       "      <td>5249</td>\n",
       "    </tr>\n",
       "    <tr>\n",
       "      <th>...</th>\n",
       "      <td>...</td>\n",
       "      <td>...</td>\n",
       "      <td>...</td>\n",
       "      <td>...</td>\n",
       "    </tr>\n",
       "    <tr>\n",
       "      <th>3015289</th>\n",
       "      <td>2008-11-24</td>\n",
       "      <td>UEM LAND HOLDINGS BERHAD</td>\n",
       "      <td>Notice of Interest Sub. S-hldr (29B) - KHAZANA...</td>\n",
       "      <td>5148</td>\n",
       "    </tr>\n",
       "    <tr>\n",
       "      <th>3015290</th>\n",
       "      <td>2008-11-24</td>\n",
       "      <td>UEM LAND HOLDINGS BERHAD</td>\n",
       "      <td>DEALINGS BY DIRECTORS AND PRINCIPAL OFFICERS I...</td>\n",
       "      <td>5148</td>\n",
       "    </tr>\n",
       "    <tr>\n",
       "      <th>3015291</th>\n",
       "      <td>2008-11-24</td>\n",
       "      <td>UEM LAND HOLDINGS BERHAD</td>\n",
       "      <td>Changes in Director's Interest (S135) - DATO' ...</td>\n",
       "      <td>5148</td>\n",
       "    </tr>\n",
       "    <tr>\n",
       "      <th>3015292</th>\n",
       "      <td>2008-11-14</td>\n",
       "      <td>UEM LAND HOLDINGS BERHAD</td>\n",
       "      <td>UEMLAND-ADMISSION TO THE MAIN BOARD OF BURSA M...</td>\n",
       "      <td>5148</td>\n",
       "    </tr>\n",
       "    <tr>\n",
       "      <th>3015293</th>\n",
       "      <td>2008-11-13</td>\n",
       "      <td>UEM LAND HOLDINGS BERHAD</td>\n",
       "      <td>Quarterly rpt on consolidated results for the ...</td>\n",
       "      <td>5148</td>\n",
       "    </tr>\n",
       "  </tbody>\n",
       "</table>\n",
       "<p>3015294 rows × 4 columns</p>\n",
       "</div>"
      ],
      "text/plain": [
       "        Announcement_Date                 Company_Name  \\\n",
       "0              2020-03-18  IOI PROPERTIES GROUP BERHAD   \n",
       "1              2020-03-17  IOI PROPERTIES GROUP BERHAD   \n",
       "2              2020-03-17  IOI PROPERTIES GROUP BERHAD   \n",
       "3              2020-03-17  IOI PROPERTIES GROUP BERHAD   \n",
       "4              2020-03-17  IOI PROPERTIES GROUP BERHAD   \n",
       "...                   ...                          ...   \n",
       "3015289        2008-11-24     UEM LAND HOLDINGS BERHAD   \n",
       "3015290        2008-11-24     UEM LAND HOLDINGS BERHAD   \n",
       "3015291        2008-11-24     UEM LAND HOLDINGS BERHAD   \n",
       "3015292        2008-11-14     UEM LAND HOLDINGS BERHAD   \n",
       "3015293        2008-11-13     UEM LAND HOLDINGS BERHAD   \n",
       "\n",
       "                                                     Title  Company_Code  \n",
       "0        Changes in Sub. S-hldr's Int (Section 138 of C...          5249  \n",
       "1        DEALINGS IN LISTED SECURITIES (CHAPTER 14 OF L...          5249  \n",
       "2        Changes in Sub. S-hldr's Int (Section 138 of C...          5249  \n",
       "3        Changes in Sub. S-hldr's Int (Section 138 of C...          5249  \n",
       "4        Changes in Director's Interest (Section 219 of...          5249  \n",
       "...                                                    ...           ...  \n",
       "3015289  Notice of Interest Sub. S-hldr (29B) - KHAZANA...          5148  \n",
       "3015290  DEALINGS BY DIRECTORS AND PRINCIPAL OFFICERS I...          5148  \n",
       "3015291  Changes in Director's Interest (S135) - DATO' ...          5148  \n",
       "3015292  UEMLAND-ADMISSION TO THE MAIN BOARD OF BURSA M...          5148  \n",
       "3015293  Quarterly rpt on consolidated results for the ...          5148  \n",
       "\n",
       "[3015294 rows x 4 columns]"
      ]
     },
     "execution_count": 38,
     "metadata": {},
     "output_type": "execute_result"
    }
   ],
   "source": [
    "x"
   ]
  },
  {
   "cell_type": "code",
   "execution_count": 47,
   "metadata": {},
   "outputs": [],
   "source": [
    "x.to_csv(\"csv_\"+data[0],sep=\",\",index = False)"
   ]
  },
  {
   "cell_type": "code",
   "execution_count": 46,
   "metadata": {},
   "outputs": [
    {
     "name": "stdout",
     "output_type": "stream",
     "text": [
      "Property_Market_Cap_cleaned.csv\n",
      "Scraped_data_property_cleaned.csv\n",
      "Historical_Price_cleaned.csv\n",
      "KLSE_Historical_data_cleaned.csv\n"
     ]
    }
   ],
   "source": [
    "for i in range(1,5):\n",
    "    print(data[i])\n",
    "    x = pd.read_csv(path+data[i],sep=\"|\").drop(['Unnamed: 0'], axis=1)\n",
    "    x.to_csv(\"csv_\"+data[i],sep=\",\",index = False)"
   ]
  }
 ],
 "metadata": {
  "kernelspec": {
   "display_name": "Python 3",
   "language": "python",
   "name": "python3"
  },
  "language_info": {
   "codemirror_mode": {
    "name": "ipython",
    "version": 3
   },
   "file_extension": ".py",
   "mimetype": "text/x-python",
   "name": "python",
   "nbconvert_exporter": "python",
   "pygments_lexer": "ipython3",
   "version": "3.7.6"
  }
 },
 "nbformat": 4,
 "nbformat_minor": 4
}
