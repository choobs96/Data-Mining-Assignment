{
 "cells": [
  {
   "cell_type": "code",
   "execution_count": 1,
   "metadata": {},
   "outputs": [],
   "source": [
    "import pandas as pd"
   ]
  },
  {
   "cell_type": "markdown",
   "metadata": {},
   "source": [
    "# Market Cap Cleaning"
   ]
  },
  {
   "cell_type": "code",
   "execution_count": 2,
   "metadata": {},
   "outputs": [],
   "source": [
    "market_cap=pd.read_csv('/home/choobs96/Desktop/Property_Market_Cap.csv',sep=\"|\").drop(['Unnamed: 0'], axis=1)"
   ]
  },
  {
   "cell_type": "code",
   "execution_count": 3,
   "metadata": {},
   "outputs": [],
   "source": [
    "market_cap.columns=['Company_Name',\n",
    " 'Company_Code',\n",
    " 'Company_Code_KL',\n",
    " 'URL',\n",
    " 'Market_Cap',\n",
    " 'Last_Price',\n",
    " 'Price_per_Earning',\n",
    " 'Divident_Yield',\n",
    " 'Return_of_Equity',\n",
    " 'Market_Cap_Float']"
   ]
  },
  {
   "cell_type": "code",
   "execution_count": 4,
   "metadata": {},
   "outputs": [
    {
     "data": {
      "text/plain": [
       "['Company_Name',\n",
       " 'Company_Code',\n",
       " 'Company_Code_KL',\n",
       " 'URL',\n",
       " 'Market_Cap',\n",
       " 'Last_Price',\n",
       " 'Price_per_Earning',\n",
       " 'Divident_Yield',\n",
       " 'Return_of_Equity',\n",
       " 'Market_Cap_Float']"
      ]
     },
     "execution_count": 4,
     "metadata": {},
     "output_type": "execute_result"
    }
   ],
   "source": [
    "market_cap.columns.to_list()"
   ]
  },
  {
   "cell_type": "code",
   "execution_count": 5,
   "metadata": {},
   "outputs": [
    {
     "name": "stdout",
     "output_type": "stream",
     "text": [
      "<class 'pandas.core.frame.DataFrame'>\n",
      "RangeIndex: 10 entries, 0 to 9\n",
      "Data columns (total 10 columns):\n",
      " #   Column             Non-Null Count  Dtype  \n",
      "---  ------             --------------  -----  \n",
      " 0   Company_Name       10 non-null     object \n",
      " 1   Company_Code       10 non-null     int64  \n",
      " 2   Company_Code_KL    10 non-null     object \n",
      " 3   URL                10 non-null     object \n",
      " 4   Market_Cap         10 non-null     object \n",
      " 5   Last_Price         10 non-null     float64\n",
      " 6   Price_per_Earning  10 non-null     float64\n",
      " 7   Divident_Yield     10 non-null     float64\n",
      " 8   Return_of_Equity   10 non-null     float64\n",
      " 9   Market_Cap_Float   10 non-null     float64\n",
      "dtypes: float64(5), int64(1), object(4)\n",
      "memory usage: 928.0+ bytes\n"
     ]
    }
   ],
   "source": [
    "market_cap.info()"
   ]
  },
  {
   "cell_type": "code",
   "execution_count": 6,
   "metadata": {},
   "outputs": [],
   "source": [
    "market_cap.to_csv(\"Property_Market_Cap.csv\",sep = \"|\")"
   ]
  },
  {
   "cell_type": "markdown",
   "metadata": {},
   "source": [
    "# Bursa Cleaning"
   ]
  },
  {
   "cell_type": "code",
   "execution_count": 7,
   "metadata": {},
   "outputs": [],
   "source": [
    "bursa=pd.read_csv('/home/choobs96/Desktop/Bursa_Announcement.csv',sep=\"|\").drop(['Unnamed: 0'], axis=1)"
   ]
  },
  {
   "cell_type": "code",
   "execution_count": 8,
   "metadata": {},
   "outputs": [
    {
     "data": {
      "text/html": [
       "<div>\n",
       "<style scoped>\n",
       "    .dataframe tbody tr th:only-of-type {\n",
       "        vertical-align: middle;\n",
       "    }\n",
       "\n",
       "    .dataframe tbody tr th {\n",
       "        vertical-align: top;\n",
       "    }\n",
       "\n",
       "    .dataframe thead th {\n",
       "        text-align: right;\n",
       "    }\n",
       "</style>\n",
       "<table border=\"1\" class=\"dataframe\">\n",
       "  <thead>\n",
       "    <tr style=\"text-align: right;\">\n",
       "      <th></th>\n",
       "      <th>Announcement Date</th>\n",
       "      <th>Company Name</th>\n",
       "      <th>Title</th>\n",
       "      <th>Company Code</th>\n",
       "    </tr>\n",
       "  </thead>\n",
       "  <tbody>\n",
       "    <tr>\n",
       "      <th>0</th>\n",
       "      <td>19 Mar 2020</td>\n",
       "      <td>IOI PROPERTIES GROUP BERHAD</td>\n",
       "      <td>Changes in Sub. S-hldr's Int (Section 138 of C...</td>\n",
       "      <td>5249</td>\n",
       "    </tr>\n",
       "    <tr>\n",
       "      <th>1</th>\n",
       "      <td>18 Mar 2020</td>\n",
       "      <td>IOI PROPERTIES GROUP BERHAD</td>\n",
       "      <td>Changes in Sub. S-hldr's Int (Section 138 of C...</td>\n",
       "      <td>5249</td>\n",
       "    </tr>\n",
       "    <tr>\n",
       "      <th>2</th>\n",
       "      <td>17 Mar 2020</td>\n",
       "      <td>IOI PROPERTIES GROUP BERHAD</td>\n",
       "      <td>DEALINGS IN LISTED SECURITIES (CHAPTER 14 OF L...</td>\n",
       "      <td>5249</td>\n",
       "    </tr>\n",
       "    <tr>\n",
       "      <th>3</th>\n",
       "      <td>17 Mar 2020</td>\n",
       "      <td>IOI PROPERTIES GROUP BERHAD</td>\n",
       "      <td>Changes in Sub. S-hldr's Int (Section 138 of C...</td>\n",
       "      <td>5249</td>\n",
       "    </tr>\n",
       "    <tr>\n",
       "      <th>4</th>\n",
       "      <td>17 Mar 2020</td>\n",
       "      <td>IOI PROPERTIES GROUP BERHAD</td>\n",
       "      <td>Changes in Sub. S-hldr's Int (Section 138 of C...</td>\n",
       "      <td>5249</td>\n",
       "    </tr>\n",
       "    <tr>\n",
       "      <th>...</th>\n",
       "      <td>...</td>\n",
       "      <td>...</td>\n",
       "      <td>...</td>\n",
       "      <td>...</td>\n",
       "    </tr>\n",
       "    <tr>\n",
       "      <th>3015294</th>\n",
       "      <td>27 May 2013</td>\n",
       "      <td>MATRIX CONCEPTS HOLDINGS BERHAD</td>\n",
       "      <td>Initial Public Offering</td>\n",
       "      <td>5236</td>\n",
       "    </tr>\n",
       "    <tr>\n",
       "      <th>3015295</th>\n",
       "      <td>23 May 2013</td>\n",
       "      <td>MATRIX CONCEPTS HOLDINGS BERHAD</td>\n",
       "      <td>Quarterly rpt on consolidated results for the ...</td>\n",
       "      <td>5236</td>\n",
       "    </tr>\n",
       "    <tr>\n",
       "      <th>3015296</th>\n",
       "      <td>23 May 2013</td>\n",
       "      <td>MATRIX CONCEPTS HOLDINGS BERHAD</td>\n",
       "      <td>First Interim Dividend</td>\n",
       "      <td>5236</td>\n",
       "    </tr>\n",
       "    <tr>\n",
       "      <th>3015297</th>\n",
       "      <td>08 May 2013</td>\n",
       "      <td>MATRIX CONCEPTS HOLDINGS BERHAD</td>\n",
       "      <td>Timetable for IPO</td>\n",
       "      <td>5236</td>\n",
       "    </tr>\n",
       "    <tr>\n",
       "      <th>3015298</th>\n",
       "      <td>08 May 2013</td>\n",
       "      <td>MATRIX CONCEPTS HOLDINGS BERHAD</td>\n",
       "      <td>PUBLIC ISSUE OF 62,500,000 NEW ORDINARY SHARES...</td>\n",
       "      <td>5236</td>\n",
       "    </tr>\n",
       "  </tbody>\n",
       "</table>\n",
       "<p>3015299 rows × 4 columns</p>\n",
       "</div>"
      ],
      "text/plain": [
       "        Announcement Date                     Company Name  \\\n",
       "0             19 Mar 2020      IOI PROPERTIES GROUP BERHAD   \n",
       "1             18 Mar 2020      IOI PROPERTIES GROUP BERHAD   \n",
       "2             17 Mar 2020      IOI PROPERTIES GROUP BERHAD   \n",
       "3             17 Mar 2020      IOI PROPERTIES GROUP BERHAD   \n",
       "4             17 Mar 2020      IOI PROPERTIES GROUP BERHAD   \n",
       "...                   ...                              ...   \n",
       "3015294       27 May 2013  MATRIX CONCEPTS HOLDINGS BERHAD   \n",
       "3015295       23 May 2013  MATRIX CONCEPTS HOLDINGS BERHAD   \n",
       "3015296       23 May 2013  MATRIX CONCEPTS HOLDINGS BERHAD   \n",
       "3015297       08 May 2013  MATRIX CONCEPTS HOLDINGS BERHAD   \n",
       "3015298       08 May 2013  MATRIX CONCEPTS HOLDINGS BERHAD   \n",
       "\n",
       "                                                     Title  Company Code  \n",
       "0        Changes in Sub. S-hldr's Int (Section 138 of C...          5249  \n",
       "1        Changes in Sub. S-hldr's Int (Section 138 of C...          5249  \n",
       "2        DEALINGS IN LISTED SECURITIES (CHAPTER 14 OF L...          5249  \n",
       "3        Changes in Sub. S-hldr's Int (Section 138 of C...          5249  \n",
       "4        Changes in Sub. S-hldr's Int (Section 138 of C...          5249  \n",
       "...                                                    ...           ...  \n",
       "3015294                            Initial Public Offering          5236  \n",
       "3015295  Quarterly rpt on consolidated results for the ...          5236  \n",
       "3015296                             First Interim Dividend          5236  \n",
       "3015297                                  Timetable for IPO          5236  \n",
       "3015298  PUBLIC ISSUE OF 62,500,000 NEW ORDINARY SHARES...          5236  \n",
       "\n",
       "[3015299 rows x 4 columns]"
      ]
     },
     "execution_count": 8,
     "metadata": {},
     "output_type": "execute_result"
    }
   ],
   "source": [
    "bursa"
   ]
  },
  {
   "cell_type": "code",
   "execution_count": 9,
   "metadata": {},
   "outputs": [],
   "source": [
    "bursa['Announcement Date'] = pd.to_datetime(bursa['Announcement Date'])\n"
   ]
  },
  {
   "cell_type": "code",
   "execution_count": 10,
   "metadata": {},
   "outputs": [],
   "source": [
    "bursa.columns =['Announcement_Date', 'Company_Name', 'Title', 'Company_Code']"
   ]
  },
  {
   "cell_type": "code",
   "execution_count": 11,
   "metadata": {},
   "outputs": [
    {
     "name": "stdout",
     "output_type": "stream",
     "text": [
      "<class 'pandas.core.frame.DataFrame'>\n",
      "RangeIndex: 3015299 entries, 0 to 3015298\n",
      "Data columns (total 4 columns):\n",
      " #   Column             Dtype         \n",
      "---  ------             -----         \n",
      " 0   Announcement_Date  datetime64[ns]\n",
      " 1   Company_Name       object        \n",
      " 2   Title              object        \n",
      " 3   Company_Code       int64         \n",
      "dtypes: datetime64[ns](1), int64(1), object(2)\n",
      "memory usage: 92.0+ MB\n"
     ]
    }
   ],
   "source": [
    "bursa.info()"
   ]
  },
  {
   "cell_type": "code",
   "execution_count": 12,
   "metadata": {},
   "outputs": [
    {
     "data": {
      "text/plain": [
       "Index(['Announcement_Date', 'Company_Name', 'Title', 'Company_Code'], dtype='object')"
      ]
     },
     "execution_count": 12,
     "metadata": {},
     "output_type": "execute_result"
    }
   ],
   "source": [
    "bursa.columns"
   ]
  },
  {
   "cell_type": "code",
   "execution_count": 13,
   "metadata": {},
   "outputs": [],
   "source": [
    "bursa.to_csv(\"Bursa_Announcement.csv\",sep = \"|\")"
   ]
  },
  {
   "cell_type": "markdown",
   "metadata": {},
   "source": [
    "# Historical Price Cleaning"
   ]
  },
  {
   "cell_type": "code",
   "execution_count": 14,
   "metadata": {},
   "outputs": [],
   "source": [
    "historical=pd.read_csv('/home/choobs96/Desktop/Historical_Price.csv',sep=\"|\").drop(['Unnamed: 0'], axis=1)\n"
   ]
  },
  {
   "cell_type": "code",
   "execution_count": 15,
   "metadata": {},
   "outputs": [],
   "source": [
    "historical['Date']= pd.to_datetime(historical['Date'])\n"
   ]
  },
  {
   "cell_type": "code",
   "execution_count": 16,
   "metadata": {},
   "outputs": [
    {
     "data": {
      "text/plain": [
       "Date               0\n",
       "High               0\n",
       "Low                0\n",
       "Open               0\n",
       "Close              0\n",
       "Volume             0\n",
       "Adj Close          0\n",
       "Company Code KL    0\n",
       "dtype: int64"
      ]
     },
     "execution_count": 16,
     "metadata": {},
     "output_type": "execute_result"
    }
   ],
   "source": [
    "historical.isnull().sum()"
   ]
  },
  {
   "cell_type": "code",
   "execution_count": 17,
   "metadata": {},
   "outputs": [],
   "source": [
    "historical_col=historical.columns.to_list()"
   ]
  },
  {
   "cell_type": "code",
   "execution_count": 18,
   "metadata": {
    "scrolled": true
   },
   "outputs": [
    {
     "data": {
      "text/plain": [
       "['Date',\n",
       " 'High',\n",
       " 'Low',\n",
       " 'Open',\n",
       " 'Close',\n",
       " 'Volume',\n",
       " 'Adj Close',\n",
       " 'Company Code KL']"
      ]
     },
     "execution_count": 18,
     "metadata": {},
     "output_type": "execute_result"
    }
   ],
   "source": [
    "historical_col"
   ]
  },
  {
   "cell_type": "code",
   "execution_count": 19,
   "metadata": {},
   "outputs": [],
   "source": [
    "historical.columns=['Date_',\n",
    " 'High_P',\n",
    " 'Low_P',\n",
    " 'Open_P',\n",
    " 'Close_P',\n",
    " 'Volume',\n",
    " 'Adj_Close',\n",
    " 'Company_Code_KL']"
   ]
  },
  {
   "cell_type": "code",
   "execution_count": 20,
   "metadata": {},
   "outputs": [
    {
     "name": "stdout",
     "output_type": "stream",
     "text": [
      "<class 'pandas.core.frame.DataFrame'>\n",
      "RangeIndex: 16976 entries, 0 to 16975\n",
      "Data columns (total 8 columns):\n",
      " #   Column           Non-Null Count  Dtype         \n",
      "---  ------           --------------  -----         \n",
      " 0   Date_            16976 non-null  datetime64[ns]\n",
      " 1   High_P           16976 non-null  float64       \n",
      " 2   Low_P            16976 non-null  float64       \n",
      " 3   Open_P           16976 non-null  float64       \n",
      " 4   Close_P          16976 non-null  float64       \n",
      " 5   Volume           16976 non-null  float64       \n",
      " 6   Adj_Close        16976 non-null  float64       \n",
      " 7   Company_Code_KL  16976 non-null  object        \n",
      "dtypes: datetime64[ns](1), float64(6), object(1)\n",
      "memory usage: 1.0+ MB\n"
     ]
    }
   ],
   "source": [
    "historical.info()"
   ]
  },
  {
   "cell_type": "code",
   "execution_count": 21,
   "metadata": {},
   "outputs": [
    {
     "data": {
      "text/plain": [
       "Index(['Date_', 'High_P', 'Low_P', 'Open_P', 'Close_P', 'Volume', 'Adj_Close',\n",
       "       'Company_Code_KL'],\n",
       "      dtype='object')"
      ]
     },
     "execution_count": 21,
     "metadata": {},
     "output_type": "execute_result"
    }
   ],
   "source": [
    "historical.columns"
   ]
  },
  {
   "cell_type": "code",
   "execution_count": 22,
   "metadata": {},
   "outputs": [],
   "source": [
    "historical.to_csv(\"Historical_Price.csv\",sep = \"|\")"
   ]
  },
  {
   "cell_type": "markdown",
   "metadata": {},
   "source": [
    "#  Cleaning KLSE Historical Data"
   ]
  },
  {
   "cell_type": "code",
   "execution_count": 23,
   "metadata": {},
   "outputs": [],
   "source": [
    "klse=pd.read_csv('/home/choobs96/Desktop/KLSE_Historical_data.csv',sep=\"|\").drop(['Unnamed: 0'], axis=1)\n"
   ]
  },
  {
   "cell_type": "code",
   "execution_count": 24,
   "metadata": {},
   "outputs": [],
   "source": [
    "klse_col=['Date_', 'Open_P', 'High_P', 'Low_P', 'Close_P', 'Adj_Close', 'Volume']"
   ]
  },
  {
   "cell_type": "code",
   "execution_count": 25,
   "metadata": {},
   "outputs": [],
   "source": [
    "klse.columns = klse_col"
   ]
  },
  {
   "cell_type": "code",
   "execution_count": 27,
   "metadata": {},
   "outputs": [
    {
     "data": {
      "text/plain": [
       "Date_        0\n",
       "Open_P       0\n",
       "High_P       0\n",
       "Low_P        0\n",
       "Close_P      0\n",
       "Adj_Close    0\n",
       "Volume       0\n",
       "dtype: int64"
      ]
     },
     "execution_count": 27,
     "metadata": {},
     "output_type": "execute_result"
    }
   ],
   "source": [
    "klse.isnull().sum()"
   ]
  },
  {
   "cell_type": "code",
   "execution_count": 28,
   "metadata": {},
   "outputs": [],
   "source": [
    "def convert_date(i):\n",
    "    month=i[:3]\n",
    "    day=i[3:5]\n",
    "    year=i[5:]\n",
    "    output = year+'-'+month+'-'+day\n",
    "    return output"
   ]
  },
  {
   "cell_type": "code",
   "execution_count": 30,
   "metadata": {},
   "outputs": [],
   "source": [
    "klse['Date_']=klse['Date_'].apply(convert_date)"
   ]
  },
  {
   "cell_type": "code",
   "execution_count": 31,
   "metadata": {},
   "outputs": [],
   "source": [
    "for i in klse_col:\n",
    "    if i=='Date_':\n",
    "        klse[i]=klse[i].str.replace(',', '').replace('-', '0')\n",
    "    else:\n",
    "        klse[i]=klse[i].str.replace(',', '').replace('-', '0').astype(float)"
   ]
  },
  {
   "cell_type": "code",
   "execution_count": 32,
   "metadata": {},
   "outputs": [],
   "source": [
    "klse['Date_']= pd.to_datetime(klse['Date_'])"
   ]
  },
  {
   "cell_type": "code",
   "execution_count": 33,
   "metadata": {},
   "outputs": [
    {
     "name": "stdout",
     "output_type": "stream",
     "text": [
      "<class 'pandas.core.frame.DataFrame'>\n",
      "RangeIndex: 2470 entries, 0 to 2469\n",
      "Data columns (total 7 columns):\n",
      " #   Column     Non-Null Count  Dtype         \n",
      "---  ------     --------------  -----         \n",
      " 0   Date_      2470 non-null   datetime64[ns]\n",
      " 1   Open_P     2470 non-null   float64       \n",
      " 2   High_P     2470 non-null   float64       \n",
      " 3   Low_P      2470 non-null   float64       \n",
      " 4   Close_P    2470 non-null   float64       \n",
      " 5   Adj_Close  2470 non-null   float64       \n",
      " 6   Volume     2470 non-null   float64       \n",
      "dtypes: datetime64[ns](1), float64(6)\n",
      "memory usage: 135.2 KB\n"
     ]
    }
   ],
   "source": [
    "klse.info()"
   ]
  },
  {
   "cell_type": "code",
   "execution_count": 34,
   "metadata": {
    "scrolled": true
   },
   "outputs": [
    {
     "data": {
      "text/plain": [
       "Index(['Date_', 'Open_P', 'High_P', 'Low_P', 'Close_P', 'Adj_Close', 'Volume'], dtype='object')"
      ]
     },
     "execution_count": 34,
     "metadata": {},
     "output_type": "execute_result"
    }
   ],
   "source": [
    "klse.columns"
   ]
  },
  {
   "cell_type": "code",
   "execution_count": 35,
   "metadata": {},
   "outputs": [],
   "source": [
    "klse.to_csv('KLSE_Historical_data.csv',sep = \"|\")"
   ]
  },
  {
   "cell_type": "markdown",
   "metadata": {},
   "source": [
    "# Quarter Report data cleaning"
   ]
  },
  {
   "cell_type": "code",
   "execution_count": 36,
   "metadata": {},
   "outputs": [],
   "source": [
    "quarter=pd.read_csv('/home/choobs96/Desktop/Scraped_data_property.csv',sep=\"|\").drop(['Unnamed: 0'], axis=1)"
   ]
  },
  {
   "cell_type": "code",
   "execution_count": 37,
   "metadata": {},
   "outputs": [
    {
     "data": {
      "text/plain": [
       "Index(['Date', 'Financial Year', 'No. ', 'Financial Quarter',\n",
       "       'Revenue (RM,000)', 'PBT (RM,000)', 'Net Profit (RM,000)', 'EPS (Cent)',\n",
       "       'Dividend (Cent)', 'NTA (RM)', 'YoY (%)', 'Company Code'],\n",
       "      dtype='object')"
      ]
     },
     "execution_count": 37,
     "metadata": {},
     "output_type": "execute_result"
    }
   ],
   "source": [
    "quarter.columns"
   ]
  },
  {
   "cell_type": "code",
   "execution_count": 38,
   "metadata": {},
   "outputs": [],
   "source": [
    "quarter['Date'] = pd.to_datetime(quarter['Date'])\n",
    "quarter['Financial Year'] = pd.to_datetime(quarter['Financial Year'])\n",
    "quarter['Financial Quarter'] = pd.to_datetime(quarter['Financial Quarter'])\n",
    "quarter['No. ']=quarter['No. '].replace('-', '0').astype(int)\n",
    "quarter['Revenue (RM,000)']=quarter['Revenue (RM,000)'].str.replace(',', '').astype(float)\n",
    "quarter['PBT (RM,000)']=quarter['PBT (RM,000)'].str.replace(',', '').astype(float)\n",
    "quarter['Net Profit (RM,000)']=quarter['Net Profit (RM,000)'].str.replace(',', '').astype(float)\n"
   ]
  },
  {
   "cell_type": "code",
   "execution_count": 39,
   "metadata": {},
   "outputs": [
    {
     "data": {
      "text/html": [
       "<div>\n",
       "<style scoped>\n",
       "    .dataframe tbody tr th:only-of-type {\n",
       "        vertical-align: middle;\n",
       "    }\n",
       "\n",
       "    .dataframe tbody tr th {\n",
       "        vertical-align: top;\n",
       "    }\n",
       "\n",
       "    .dataframe thead th {\n",
       "        text-align: right;\n",
       "    }\n",
       "</style>\n",
       "<table border=\"1\" class=\"dataframe\">\n",
       "  <thead>\n",
       "    <tr style=\"text-align: right;\">\n",
       "      <th></th>\n",
       "      <th>Date</th>\n",
       "      <th>Financial Year</th>\n",
       "      <th>No.</th>\n",
       "      <th>Financial Quarter</th>\n",
       "      <th>Revenue (RM,000)</th>\n",
       "      <th>PBT (RM,000)</th>\n",
       "      <th>Net Profit (RM,000)</th>\n",
       "      <th>EPS (Cent)</th>\n",
       "      <th>Dividend (Cent)</th>\n",
       "      <th>NTA (RM)</th>\n",
       "      <th>YoY (%)</th>\n",
       "      <th>Company Code</th>\n",
       "    </tr>\n",
       "  </thead>\n",
       "  <tbody>\n",
       "    <tr>\n",
       "      <th>0</th>\n",
       "      <td>2020-02-25</td>\n",
       "      <td>2020-06-30</td>\n",
       "      <td>2</td>\n",
       "      <td>2019-12-31</td>\n",
       "      <td>564129.0</td>\n",
       "      <td>286301.0</td>\n",
       "      <td>199749.0</td>\n",
       "      <td>3.63</td>\n",
       "      <td>0.00</td>\n",
       "      <td>3.43</td>\n",
       "      <td>7%</td>\n",
       "      <td>5249</td>\n",
       "    </tr>\n",
       "    <tr>\n",
       "      <th>1</th>\n",
       "      <td>2019-11-25</td>\n",
       "      <td>2020-06-30</td>\n",
       "      <td>1</td>\n",
       "      <td>2019-09-30</td>\n",
       "      <td>540315.0</td>\n",
       "      <td>255649.0</td>\n",
       "      <td>136636.0</td>\n",
       "      <td>2.48</td>\n",
       "      <td>0.00</td>\n",
       "      <td>3.40</td>\n",
       "      <td>22%</td>\n",
       "      <td>5249</td>\n",
       "    </tr>\n",
       "    <tr>\n",
       "      <th>2</th>\n",
       "      <td>2019-08-29</td>\n",
       "      <td>2019-06-30</td>\n",
       "      <td>4</td>\n",
       "      <td>2019-06-30</td>\n",
       "      <td>497791.0</td>\n",
       "      <td>227892.0</td>\n",
       "      <td>139768.0</td>\n",
       "      <td>2.54</td>\n",
       "      <td>3.00</td>\n",
       "      <td>3.42</td>\n",
       "      <td>47%</td>\n",
       "      <td>5249</td>\n",
       "    </tr>\n",
       "    <tr>\n",
       "      <th>3</th>\n",
       "      <td>2019-05-27</td>\n",
       "      <td>2019-06-30</td>\n",
       "      <td>3</td>\n",
       "      <td>2019-03-31</td>\n",
       "      <td>487739.0</td>\n",
       "      <td>300902.0</td>\n",
       "      <td>194700.0</td>\n",
       "      <td>3.54</td>\n",
       "      <td>0.00</td>\n",
       "      <td>3.38</td>\n",
       "      <td>17%</td>\n",
       "      <td>5249</td>\n",
       "    </tr>\n",
       "    <tr>\n",
       "      <th>4</th>\n",
       "      <td>2019-02-26</td>\n",
       "      <td>2019-06-30</td>\n",
       "      <td>2</td>\n",
       "      <td>2018-12-31</td>\n",
       "      <td>666150.0</td>\n",
       "      <td>355012.0</td>\n",
       "      <td>214864.0</td>\n",
       "      <td>3.90</td>\n",
       "      <td>0.00</td>\n",
       "      <td>3.36</td>\n",
       "      <td>97%</td>\n",
       "      <td>5249</td>\n",
       "    </tr>\n",
       "    <tr>\n",
       "      <th>...</th>\n",
       "      <td>...</td>\n",
       "      <td>...</td>\n",
       "      <td>...</td>\n",
       "      <td>...</td>\n",
       "      <td>...</td>\n",
       "      <td>...</td>\n",
       "      <td>...</td>\n",
       "      <td>...</td>\n",
       "      <td>...</td>\n",
       "      <td>...</td>\n",
       "      <td>...</td>\n",
       "      <td>...</td>\n",
       "    </tr>\n",
       "    <tr>\n",
       "      <th>380</th>\n",
       "      <td>2014-08-19</td>\n",
       "      <td>2014-12-31</td>\n",
       "      <td>2</td>\n",
       "      <td>2014-06-30</td>\n",
       "      <td>163747.0</td>\n",
       "      <td>58550.0</td>\n",
       "      <td>42447.0</td>\n",
       "      <td>14.00</td>\n",
       "      <td>3.75</td>\n",
       "      <td>2.02</td>\n",
       "      <td>41%</td>\n",
       "      <td>5236</td>\n",
       "    </tr>\n",
       "    <tr>\n",
       "      <th>381</th>\n",
       "      <td>2014-05-21</td>\n",
       "      <td>2014-12-31</td>\n",
       "      <td>1</td>\n",
       "      <td>2014-03-31</td>\n",
       "      <td>134700.0</td>\n",
       "      <td>53958.0</td>\n",
       "      <td>38550.0</td>\n",
       "      <td>12.80</td>\n",
       "      <td>5.00</td>\n",
       "      <td>1.92</td>\n",
       "      <td>0%</td>\n",
       "      <td>5236</td>\n",
       "    </tr>\n",
       "    <tr>\n",
       "      <th>382</th>\n",
       "      <td>2014-02-25</td>\n",
       "      <td>2013-12-31</td>\n",
       "      <td>4</td>\n",
       "      <td>2013-12-31</td>\n",
       "      <td>144335.0</td>\n",
       "      <td>56412.0</td>\n",
       "      <td>40664.0</td>\n",
       "      <td>13.50</td>\n",
       "      <td>0.05</td>\n",
       "      <td>1.83</td>\n",
       "      <td>0%</td>\n",
       "      <td>5236</td>\n",
       "    </tr>\n",
       "    <tr>\n",
       "      <th>383</th>\n",
       "      <td>2013-11-19</td>\n",
       "      <td>2013-12-31</td>\n",
       "      <td>3</td>\n",
       "      <td>2013-09-30</td>\n",
       "      <td>127416.0</td>\n",
       "      <td>48741.0</td>\n",
       "      <td>36202.0</td>\n",
       "      <td>12.10</td>\n",
       "      <td>0.10</td>\n",
       "      <td>1.80</td>\n",
       "      <td>0%</td>\n",
       "      <td>5236</td>\n",
       "    </tr>\n",
       "    <tr>\n",
       "      <th>384</th>\n",
       "      <td>2013-08-26</td>\n",
       "      <td>2013-12-31</td>\n",
       "      <td>2</td>\n",
       "      <td>2013-06-30</td>\n",
       "      <td>147322.0</td>\n",
       "      <td>40588.0</td>\n",
       "      <td>30041.0</td>\n",
       "      <td>13.10</td>\n",
       "      <td>0.07</td>\n",
       "      <td>1.73</td>\n",
       "      <td>0%</td>\n",
       "      <td>5236</td>\n",
       "    </tr>\n",
       "  </tbody>\n",
       "</table>\n",
       "<p>385 rows × 12 columns</p>\n",
       "</div>"
      ],
      "text/plain": [
       "          Date Financial Year  No.  Financial Quarter  Revenue (RM,000)  \\\n",
       "0   2020-02-25     2020-06-30     2        2019-12-31          564129.0   \n",
       "1   2019-11-25     2020-06-30     1        2019-09-30          540315.0   \n",
       "2   2019-08-29     2019-06-30     4        2019-06-30          497791.0   \n",
       "3   2019-05-27     2019-06-30     3        2019-03-31          487739.0   \n",
       "4   2019-02-26     2019-06-30     2        2018-12-31          666150.0   \n",
       "..         ...            ...   ...               ...               ...   \n",
       "380 2014-08-19     2014-12-31     2        2014-06-30          163747.0   \n",
       "381 2014-05-21     2014-12-31     1        2014-03-31          134700.0   \n",
       "382 2014-02-25     2013-12-31     4        2013-12-31          144335.0   \n",
       "383 2013-11-19     2013-12-31     3        2013-09-30          127416.0   \n",
       "384 2013-08-26     2013-12-31     2        2013-06-30          147322.0   \n",
       "\n",
       "     PBT (RM,000)  Net Profit (RM,000)  EPS (Cent)  Dividend (Cent)  NTA (RM)  \\\n",
       "0        286301.0             199749.0        3.63             0.00      3.43   \n",
       "1        255649.0             136636.0        2.48             0.00      3.40   \n",
       "2        227892.0             139768.0        2.54             3.00      3.42   \n",
       "3        300902.0             194700.0        3.54             0.00      3.38   \n",
       "4        355012.0             214864.0        3.90             0.00      3.36   \n",
       "..            ...                  ...         ...              ...       ...   \n",
       "380       58550.0              42447.0       14.00             3.75      2.02   \n",
       "381       53958.0              38550.0       12.80             5.00      1.92   \n",
       "382       56412.0              40664.0       13.50             0.05      1.83   \n",
       "383       48741.0              36202.0       12.10             0.10      1.80   \n",
       "384       40588.0              30041.0       13.10             0.07      1.73   \n",
       "\n",
       "    YoY (%)  Company Code  \n",
       "0        7%          5249  \n",
       "1       22%          5249  \n",
       "2       47%          5249  \n",
       "3       17%          5249  \n",
       "4       97%          5249  \n",
       "..      ...           ...  \n",
       "380     41%          5236  \n",
       "381      0%          5236  \n",
       "382      0%          5236  \n",
       "383      0%          5236  \n",
       "384      0%          5236  \n",
       "\n",
       "[385 rows x 12 columns]"
      ]
     },
     "execution_count": 39,
     "metadata": {},
     "output_type": "execute_result"
    }
   ],
   "source": [
    "quarter"
   ]
  },
  {
   "cell_type": "code",
   "execution_count": 40,
   "metadata": {},
   "outputs": [],
   "source": [
    "quarter_col= ['Date_',\n",
    " 'Financial_Year',\n",
    " 'No_',\n",
    " 'Financial_Quarter',\n",
    " 'Revenue_K',\n",
    " 'PBT_K',\n",
    " 'Net_Profit_K',\n",
    " 'EPS_Cent',\n",
    " 'Dividend_Cent',\n",
    " 'NTA',\n",
    " 'YoY_percent',\n",
    " 'Company_Code']"
   ]
  },
  {
   "cell_type": "code",
   "execution_count": 41,
   "metadata": {},
   "outputs": [],
   "source": [
    "quarter.columns = quarter_col"
   ]
  },
  {
   "cell_type": "code",
   "execution_count": 42,
   "metadata": {},
   "outputs": [
    {
     "name": "stdout",
     "output_type": "stream",
     "text": [
      "<class 'pandas.core.frame.DataFrame'>\n",
      "RangeIndex: 385 entries, 0 to 384\n",
      "Data columns (total 12 columns):\n",
      " #   Column             Non-Null Count  Dtype         \n",
      "---  ------             --------------  -----         \n",
      " 0   Date_              385 non-null    datetime64[ns]\n",
      " 1   Financial_Year     385 non-null    datetime64[ns]\n",
      " 2   No_                385 non-null    int64         \n",
      " 3   Financial_Quarter  385 non-null    datetime64[ns]\n",
      " 4   Revenue_K          385 non-null    float64       \n",
      " 5   PBT_K              385 non-null    float64       \n",
      " 6   Net_Profit_K       385 non-null    float64       \n",
      " 7   EPS_Cent           385 non-null    float64       \n",
      " 8   Dividend_Cent      385 non-null    float64       \n",
      " 9   NTA                385 non-null    float64       \n",
      " 10  YoY_percent        385 non-null    object        \n",
      " 11  Company_Code       385 non-null    int64         \n",
      "dtypes: datetime64[ns](3), float64(6), int64(2), object(1)\n",
      "memory usage: 36.2+ KB\n"
     ]
    }
   ],
   "source": [
    "quarter.info()"
   ]
  },
  {
   "cell_type": "code",
   "execution_count": 43,
   "metadata": {},
   "outputs": [
    {
     "data": {
      "text/plain": [
       "Index(['Date_', 'Financial_Year', 'No_', 'Financial_Quarter', 'Revenue_K',\n",
       "       'PBT_K', 'Net_Profit_K', 'EPS_Cent', 'Dividend_Cent', 'NTA',\n",
       "       'YoY_percent', 'Company_Code'],\n",
       "      dtype='object')"
      ]
     },
     "execution_count": 43,
     "metadata": {},
     "output_type": "execute_result"
    }
   ],
   "source": [
    "quarter.columns"
   ]
  },
  {
   "cell_type": "code",
   "execution_count": 44,
   "metadata": {},
   "outputs": [],
   "source": [
    "quarter.to_csv(\"Scraped_data_property.csv\",sep = \"|\")"
   ]
  }
 ],
 "metadata": {
  "kernelspec": {
   "display_name": "Python 3",
   "language": "python",
   "name": "python3"
  },
  "language_info": {
   "codemirror_mode": {
    "name": "ipython",
    "version": 3
   },
   "file_extension": ".py",
   "mimetype": "text/x-python",
   "name": "python",
   "nbconvert_exporter": "python",
   "pygments_lexer": "ipython3",
   "version": "3.7.6"
  }
 },
 "nbformat": 4,
 "nbformat_minor": 4
}
