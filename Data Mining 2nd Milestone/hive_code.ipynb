{
 "cells": [
  {
   "cell_type": "markdown",
   "metadata": {},
   "source": [
    "# Create database in Hive"
   ]
  },
  {
   "cell_type": "raw",
   "metadata": {},
   "source": [
    "CREATE DATABASE userdb;\n"
   ]
  },
  {
   "cell_type": "markdown",
   "metadata": {},
   "source": [
    "# Use database"
   ]
  },
  {
   "cell_type": "raw",
   "metadata": {},
   "source": [
    "use userdb;"
   ]
  },
  {
   "cell_type": "markdown",
   "metadata": {},
   "source": [
    "# Create tables and load each csv file into the table\n",
    "Paste each of the code into hive."
   ]
  },
  {
   "cell_type": "markdown",
   "metadata": {},
   "source": [
    "# For klse_price table"
   ]
  },
  {
   "cell_type": "raw",
   "metadata": {},
   "source": [
    "create table if not exists klse_price (Index INT,H_Date DATE,Open_P FLOAT,High_P FLOAT,Low_P FLOAT,Close_P FLOAT,Adj_Close_P FLOAT,Volume FLOAT)\n",
    "row format delimited\n",
    "fields terminated by '|'\n",
    "location '/home/student/Desktop/KLSE_Historical_data.csv'\n",
    "tblproperties(\"skip.header.line.count\"=\"1\");\n",
    "\n",
    "load data local inpath '/home/student/Desktop/KLSE_Historical_data.csv' overwrite into table userdb.klse_price;"
   ]
  },
  {
   "cell_type": "markdown",
   "metadata": {},
   "source": [
    "# For property_market_Cap table"
   ]
  },
  {
   "cell_type": "raw",
   "metadata": {},
   "source": [
    "create table if not exists property_market_Cap (Index INT,Company_Name STRING,Company_Code INT,Company_Code_KL STRING,URL STRING,Market_Cap STRING,Last_Price FLOAT,Price_o_Earning FLOAT,Divident_Yield FLOAT,ROE FLOAT,Market_Cap_full FLOAT)\n",
    "row format delimited\n",
    "fields terminated by '|'\n",
    "location '/home/student/Desktop/Property_Market_Cap.csv'\n",
    "tblproperties(\"skip.header.line.count\"=\"1\");\n",
    "\n",
    "load data local inpath '/home/student/Desktop/Property_Market_Cap.csv' overwrite into table userdb.property_market_Cap;"
   ]
  },
  {
   "cell_type": "markdown",
   "metadata": {},
   "source": [
    "# For hist_price table"
   ]
  },
  {
   "cell_type": "raw",
   "metadata": {},
   "source": [
    "create table if not exists hist_price (Index INT,Date_ DATE,High_P FLOAT, Low_P FLOAT, Open_P FLOAT, Close_P FLOAT, Volume FLOAT, Adj_Close FLOAT,Company_Code_KL STRING)\n",
    "row format delimited\n",
    "fields terminated by '|'\n",
    "location '/home/student/Desktop/Historical_Price.csv'\n",
    "tblproperties(\"skip.header.line.count\"=\"1\");\n",
    "\n",
    "load data local inpath '/home/student/Desktop/Historical_Price.csv' overwrite into table userdb.hist_price;"
   ]
  },
  {
   "cell_type": "markdown",
   "metadata": {},
   "source": [
    "# For quarterly data (Scraped) table"
   ]
  },
  {
   "cell_type": "raw",
   "metadata": {},
   "source": [
    "create table if not exists Scraped (Index INT,Date_ DATE,Financial_Year DATE,No_ INT, Financial_Quarter DATE, Revenue_RM_K FLOAT,PBT_RM_K FLOAT, Net_Profit_RM_K FLOAT, EPS_Cent FLOAT, Dividend_Cent FLOAT, NTA_RM FLOAT, YoY_percent STRING, Company_Code INT)\n",
    "row format delimited\n",
    "fields terminated by '|'\n",
    "location '/home/student/Desktop/Scraped_data_property.csv'\n",
    "tblproperties(\"skip.header.line.count\"=\"1\");\n",
    "\n",
    "load data local inpath '/home/student/Desktop/Scraped_data_property.csv' overwrite into table userdb.Scraped;"
   ]
  },
  {
   "cell_type": "markdown",
   "metadata": {},
   "source": [
    "# For Bursa table"
   ]
  },
  {
   "cell_type": "raw",
   "metadata": {},
   "source": [
    "create table if not exists Bursa (Index INT,Announcement_Date STRING, Company_Name STRING, Title STRING, Company_Code STRING)\n",
    "row format delimited\n",
    "fields terminated by '|'\n",
    "location '/home/student/Desktop/Bursa_Announcement.csv'\n",
    "tblproperties(\"skip.header.line.count\"=\"1\");\n",
    "\n",
    "load data local inpath '/home/student/Desktop/Bursa_Announcement.csv' overwrite into table userdb.Bursa;"
   ]
  }
 ],
 "metadata": {
  "kernelspec": {
   "display_name": "Python 3",
   "language": "python",
   "name": "python3"
  },
  "language_info": {
   "codemirror_mode": {
    "name": "ipython",
    "version": 3
   },
   "file_extension": ".py",
   "mimetype": "text/x-python",
   "name": "python",
   "nbconvert_exporter": "python",
   "pygments_lexer": "ipython3",
   "version": "3.7.6"
  }
 },
 "nbformat": 4,
 "nbformat_minor": 4
}
