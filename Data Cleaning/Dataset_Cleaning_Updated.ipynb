{
 "cells": [
  {
   "cell_type": "code",
   "execution_count": 1,
   "metadata": {},
   "outputs": [],
   "source": [
    "import pandas as pd\n",
    "import numpy as np"
   ]
  },
  {
   "cell_type": "markdown",
   "metadata": {},
   "source": [
    "# Market Cap Cleaning"
   ]
  },
  {
   "cell_type": "code",
   "execution_count": 2,
   "metadata": {},
   "outputs": [],
   "source": [
    "market_cap=pd.read_csv('/home/choobs96/Data Mining/Ori_data/Property_Market_Cap.csv',sep=\"|\").drop(['Unnamed: 0'], axis=1)"
   ]
  },
  {
   "cell_type": "code",
   "execution_count": 3,
   "metadata": {},
   "outputs": [
    {
     "data": {
      "text/plain": [
       "Index(['Company Name', 'Company Code', 'Company Code KL', 'URL', 'Market Cap',\n",
       "       'Last Price', 'Price/Earning', 'Divident Yield', 'Return of Equity',\n",
       "       'Market Cap Float'],\n",
       "      dtype='object')"
      ]
     },
     "execution_count": 3,
     "metadata": {},
     "output_type": "execute_result"
    }
   ],
   "source": [
    "market_cap.columns"
   ]
  },
  {
   "cell_type": "markdown",
   "metadata": {},
   "source": [
    "Rename the columns for Market Cap data"
   ]
  },
  {
   "cell_type": "code",
   "execution_count": 4,
   "metadata": {},
   "outputs": [],
   "source": [
    "market_cap.columns=['Company_Name',\n",
    " 'Company_Code',\n",
    " 'Company_Code_KL',\n",
    " 'URL',\n",
    " 'Market_Cap',\n",
    " 'Last_Price',\n",
    " 'Price_per_Earning',\n",
    " 'Divident_Yield',\n",
    " 'Return_of_Equity',\n",
    " 'Market_Cap_Float']"
   ]
  },
  {
   "cell_type": "code",
   "execution_count": 5,
   "metadata": {},
   "outputs": [
    {
     "data": {
      "text/html": [
       "<div>\n",
       "<style scoped>\n",
       "    .dataframe tbody tr th:only-of-type {\n",
       "        vertical-align: middle;\n",
       "    }\n",
       "\n",
       "    .dataframe tbody tr th {\n",
       "        vertical-align: top;\n",
       "    }\n",
       "\n",
       "    .dataframe thead th {\n",
       "        text-align: right;\n",
       "    }\n",
       "</style>\n",
       "<table border=\"1\" class=\"dataframe\">\n",
       "  <thead>\n",
       "    <tr style=\"text-align: right;\">\n",
       "      <th></th>\n",
       "      <th>Company_Name</th>\n",
       "      <th>Company_Code</th>\n",
       "      <th>Company_Code_KL</th>\n",
       "      <th>URL</th>\n",
       "      <th>Market_Cap</th>\n",
       "      <th>Last_Price</th>\n",
       "      <th>Price_per_Earning</th>\n",
       "      <th>Divident_Yield</th>\n",
       "      <th>Return_of_Equity</th>\n",
       "      <th>Market_Cap_Float</th>\n",
       "    </tr>\n",
       "  </thead>\n",
       "  <tbody>\n",
       "    <tr>\n",
       "      <th>0</th>\n",
       "      <td>IOIPG</td>\n",
       "      <td>5249</td>\n",
       "      <td>5249.KL</td>\n",
       "      <td>https://www.malaysiastock.biz/Corporate-Infoma...</td>\n",
       "      <td>4.735b</td>\n",
       "      <td>0.86</td>\n",
       "      <td>7.06</td>\n",
       "      <td>3.49</td>\n",
       "      <td>3.55</td>\n",
       "      <td>4.735000e+09</td>\n",
       "    </tr>\n",
       "    <tr>\n",
       "      <th>1</th>\n",
       "      <td>SIMEPROP</td>\n",
       "      <td>5288</td>\n",
       "      <td>5288.KL</td>\n",
       "      <td>https://www.malaysiastock.biz/Corporate-Infoma...</td>\n",
       "      <td>3.740b</td>\n",
       "      <td>0.55</td>\n",
       "      <td>6.25</td>\n",
       "      <td>5.45</td>\n",
       "      <td>6.15</td>\n",
       "      <td>3.740000e+09</td>\n",
       "    </tr>\n",
       "    <tr>\n",
       "      <th>2</th>\n",
       "      <td>UOADEV</td>\n",
       "      <td>5200</td>\n",
       "      <td>5200.KL</td>\n",
       "      <td>https://www.malaysiastock.biz/Corporate-Infoma...</td>\n",
       "      <td>2.951b</td>\n",
       "      <td>1.50</td>\n",
       "      <td>7.39</td>\n",
       "      <td>9.33</td>\n",
       "      <td>7.87</td>\n",
       "      <td>2.951000e+09</td>\n",
       "    </tr>\n",
       "    <tr>\n",
       "      <th>3</th>\n",
       "      <td>SPSETIA</td>\n",
       "      <td>8664</td>\n",
       "      <td>8664.KL</td>\n",
       "      <td>https://www.malaysiastock.biz/Corporate-Infoma...</td>\n",
       "      <td>2.830b</td>\n",
       "      <td>0.70</td>\n",
       "      <td>7.63</td>\n",
       "      <td>1.43</td>\n",
       "      <td>3.04</td>\n",
       "      <td>2.830000e+09</td>\n",
       "    </tr>\n",
       "    <tr>\n",
       "      <th>4</th>\n",
       "      <td>IGBB</td>\n",
       "      <td>5606</td>\n",
       "      <td>5606.KL</td>\n",
       "      <td>https://www.malaysiastock.biz/Corporate-Infoma...</td>\n",
       "      <td>2.355b</td>\n",
       "      <td>2.65</td>\n",
       "      <td>11.28</td>\n",
       "      <td>1.13</td>\n",
       "      <td>4.43</td>\n",
       "      <td>2.355000e+09</td>\n",
       "    </tr>\n",
       "    <tr>\n",
       "      <th>5</th>\n",
       "      <td>MRCB</td>\n",
       "      <td>1651</td>\n",
       "      <td>1651.KL</td>\n",
       "      <td>https://www.malaysiastock.biz/Corporate-Infoma...</td>\n",
       "      <td>1.478b</td>\n",
       "      <td>0.34</td>\n",
       "      <td>62.04</td>\n",
       "      <td>2.99</td>\n",
       "      <td>0.50</td>\n",
       "      <td>1.478000e+09</td>\n",
       "    </tr>\n",
       "    <tr>\n",
       "      <th>6</th>\n",
       "      <td>OSK</td>\n",
       "      <td>5053</td>\n",
       "      <td>5053.KL</td>\n",
       "      <td>https://www.malaysiastock.biz/Corporate-Infoma...</td>\n",
       "      <td>1.467b</td>\n",
       "      <td>0.70</td>\n",
       "      <td>3.56</td>\n",
       "      <td>7.14</td>\n",
       "      <td>8.16</td>\n",
       "      <td>1.467000e+09</td>\n",
       "    </tr>\n",
       "    <tr>\n",
       "      <th>7</th>\n",
       "      <td>YNHPROP</td>\n",
       "      <td>3158</td>\n",
       "      <td>3158.KL</td>\n",
       "      <td>https://www.malaysiastock.biz/Corporate-Infoma...</td>\n",
       "      <td>1.354b</td>\n",
       "      <td>2.56</td>\n",
       "      <td>32.12</td>\n",
       "      <td>0.00</td>\n",
       "      <td>3.62</td>\n",
       "      <td>1.354000e+09</td>\n",
       "    </tr>\n",
       "    <tr>\n",
       "      <th>8</th>\n",
       "      <td>MATRIX</td>\n",
       "      <td>5236</td>\n",
       "      <td>5236.KL</td>\n",
       "      <td>https://www.malaysiastock.biz/Corporate-Infoma...</td>\n",
       "      <td>1.293b</td>\n",
       "      <td>1.55</td>\n",
       "      <td>5.29</td>\n",
       "      <td>8.23</td>\n",
       "      <td>15.35</td>\n",
       "      <td>1.293000e+09</td>\n",
       "    </tr>\n",
       "    <tr>\n",
       "      <th>9</th>\n",
       "      <td>UEMS</td>\n",
       "      <td>5148</td>\n",
       "      <td>5148.KL</td>\n",
       "      <td>https://www.malaysiastock.biz/Corporate-Infoma...</td>\n",
       "      <td>1.293b</td>\n",
       "      <td>0.29</td>\n",
       "      <td>5.78</td>\n",
       "      <td>0.00</td>\n",
       "      <td>3.06</td>\n",
       "      <td>1.293000e+09</td>\n",
       "    </tr>\n",
       "  </tbody>\n",
       "</table>\n",
       "</div>"
      ],
      "text/plain": [
       "  Company_Name  Company_Code Company_Code_KL  \\\n",
       "0        IOIPG          5249         5249.KL   \n",
       "1     SIMEPROP          5288         5288.KL   \n",
       "2       UOADEV          5200         5200.KL   \n",
       "3      SPSETIA          8664         8664.KL   \n",
       "4         IGBB          5606         5606.KL   \n",
       "5         MRCB          1651         1651.KL   \n",
       "6          OSK          5053         5053.KL   \n",
       "7      YNHPROP          3158         3158.KL   \n",
       "8       MATRIX          5236         5236.KL   \n",
       "9         UEMS          5148         5148.KL   \n",
       "\n",
       "                                                 URL Market_Cap  Last_Price  \\\n",
       "0  https://www.malaysiastock.biz/Corporate-Infoma...     4.735b        0.86   \n",
       "1  https://www.malaysiastock.biz/Corporate-Infoma...     3.740b        0.55   \n",
       "2  https://www.malaysiastock.biz/Corporate-Infoma...     2.951b        1.50   \n",
       "3  https://www.malaysiastock.biz/Corporate-Infoma...     2.830b        0.70   \n",
       "4  https://www.malaysiastock.biz/Corporate-Infoma...     2.355b        2.65   \n",
       "5  https://www.malaysiastock.biz/Corporate-Infoma...     1.478b        0.34   \n",
       "6  https://www.malaysiastock.biz/Corporate-Infoma...     1.467b        0.70   \n",
       "7  https://www.malaysiastock.biz/Corporate-Infoma...     1.354b        2.56   \n",
       "8  https://www.malaysiastock.biz/Corporate-Infoma...     1.293b        1.55   \n",
       "9  https://www.malaysiastock.biz/Corporate-Infoma...     1.293b        0.29   \n",
       "\n",
       "   Price_per_Earning  Divident_Yield  Return_of_Equity  Market_Cap_Float  \n",
       "0               7.06            3.49              3.55      4.735000e+09  \n",
       "1               6.25            5.45              6.15      3.740000e+09  \n",
       "2               7.39            9.33              7.87      2.951000e+09  \n",
       "3               7.63            1.43              3.04      2.830000e+09  \n",
       "4              11.28            1.13              4.43      2.355000e+09  \n",
       "5              62.04            2.99              0.50      1.478000e+09  \n",
       "6               3.56            7.14              8.16      1.467000e+09  \n",
       "7              32.12            0.00              3.62      1.354000e+09  \n",
       "8               5.29            8.23             15.35      1.293000e+09  \n",
       "9               5.78            0.00              3.06      1.293000e+09  "
      ]
     },
     "execution_count": 5,
     "metadata": {},
     "output_type": "execute_result"
    }
   ],
   "source": [
    "market_cap"
   ]
  },
  {
   "cell_type": "markdown",
   "metadata": {},
   "source": [
    "Check null value in the data"
   ]
  },
  {
   "cell_type": "code",
   "execution_count": 6,
   "metadata": {},
   "outputs": [
    {
     "data": {
      "text/plain": [
       "Company_Name         0\n",
       "Company_Code         0\n",
       "Company_Code_KL      0\n",
       "URL                  0\n",
       "Market_Cap           0\n",
       "Last_Price           0\n",
       "Price_per_Earning    0\n",
       "Divident_Yield       0\n",
       "Return_of_Equity     0\n",
       "Market_Cap_Float     0\n",
       "dtype: int64"
      ]
     },
     "execution_count": 6,
     "metadata": {},
     "output_type": "execute_result"
    }
   ],
   "source": [
    "market_cap.isnull().sum()"
   ]
  },
  {
   "cell_type": "markdown",
   "metadata": {},
   "source": [
    "Since there is no Null value in this data, we just need to check the data type e.g String, Integer or Float to standardize the data"
   ]
  },
  {
   "cell_type": "code",
   "execution_count": 7,
   "metadata": {},
   "outputs": [
    {
     "name": "stdout",
     "output_type": "stream",
     "text": [
      "<class 'pandas.core.frame.DataFrame'>\n",
      "RangeIndex: 10 entries, 0 to 9\n",
      "Data columns (total 10 columns):\n",
      " #   Column             Non-Null Count  Dtype  \n",
      "---  ------             --------------  -----  \n",
      " 0   Company_Name       10 non-null     object \n",
      " 1   Company_Code       10 non-null     int64  \n",
      " 2   Company_Code_KL    10 non-null     object \n",
      " 3   URL                10 non-null     object \n",
      " 4   Market_Cap         10 non-null     object \n",
      " 5   Last_Price         10 non-null     float64\n",
      " 6   Price_per_Earning  10 non-null     float64\n",
      " 7   Divident_Yield     10 non-null     float64\n",
      " 8   Return_of_Equity   10 non-null     float64\n",
      " 9   Market_Cap_Float   10 non-null     float64\n",
      "dtypes: float64(5), int64(1), object(4)\n",
      "memory usage: 928.0+ bytes\n"
     ]
    }
   ],
   "source": [
    "market_cap.info()"
   ]
  },
  {
   "cell_type": "code",
   "execution_count": 8,
   "metadata": {},
   "outputs": [],
   "source": [
    "market_cap.to_csv(\"Property_Market_Cap_cleaned.csv\",sep = \"|\")"
   ]
  },
  {
   "cell_type": "markdown",
   "metadata": {},
   "source": [
    "# Bursa Cleaning"
   ]
  },
  {
   "cell_type": "code",
   "execution_count": 9,
   "metadata": {},
   "outputs": [],
   "source": [
    "bursa=pd.read_csv('/home/choobs96/Data Mining/Ori_data/Bursa_Announcement.csv',sep=\"|\").drop(['Unnamed: 0'], axis=1)"
   ]
  },
  {
   "cell_type": "code",
   "execution_count": 10,
   "metadata": {},
   "outputs": [
    {
     "data": {
      "text/html": [
       "<div>\n",
       "<style scoped>\n",
       "    .dataframe tbody tr th:only-of-type {\n",
       "        vertical-align: middle;\n",
       "    }\n",
       "\n",
       "    .dataframe tbody tr th {\n",
       "        vertical-align: top;\n",
       "    }\n",
       "\n",
       "    .dataframe thead th {\n",
       "        text-align: right;\n",
       "    }\n",
       "</style>\n",
       "<table border=\"1\" class=\"dataframe\">\n",
       "  <thead>\n",
       "    <tr style=\"text-align: right;\">\n",
       "      <th></th>\n",
       "      <th>Announcement Date</th>\n",
       "      <th>Company Name</th>\n",
       "      <th>Title</th>\n",
       "      <th>Company Code</th>\n",
       "    </tr>\n",
       "  </thead>\n",
       "  <tbody>\n",
       "    <tr>\n",
       "      <th>0</th>\n",
       "      <td>18 Mar 2020</td>\n",
       "      <td>IOI PROPERTIES GROUP BERHAD</td>\n",
       "      <td>Changes in Sub. S-hldr's Int (Section 138 of C...</td>\n",
       "      <td>5249</td>\n",
       "    </tr>\n",
       "    <tr>\n",
       "      <th>1</th>\n",
       "      <td>17 Mar 2020</td>\n",
       "      <td>IOI PROPERTIES GROUP BERHAD</td>\n",
       "      <td>DEALINGS IN LISTED SECURITIES (CHAPTER 14 OF L...</td>\n",
       "      <td>5249</td>\n",
       "    </tr>\n",
       "    <tr>\n",
       "      <th>2</th>\n",
       "      <td>17 Mar 2020</td>\n",
       "      <td>IOI PROPERTIES GROUP BERHAD</td>\n",
       "      <td>Changes in Sub. S-hldr's Int (Section 138 of C...</td>\n",
       "      <td>5249</td>\n",
       "    </tr>\n",
       "    <tr>\n",
       "      <th>3</th>\n",
       "      <td>17 Mar 2020</td>\n",
       "      <td>IOI PROPERTIES GROUP BERHAD</td>\n",
       "      <td>Changes in Sub. S-hldr's Int (Section 138 of C...</td>\n",
       "      <td>5249</td>\n",
       "    </tr>\n",
       "    <tr>\n",
       "      <th>4</th>\n",
       "      <td>17 Mar 2020</td>\n",
       "      <td>IOI PROPERTIES GROUP BERHAD</td>\n",
       "      <td>Changes in Director's Interest (Section 219 of...</td>\n",
       "      <td>5249</td>\n",
       "    </tr>\n",
       "  </tbody>\n",
       "</table>\n",
       "</div>"
      ],
      "text/plain": [
       "  Announcement Date                 Company Name  \\\n",
       "0       18 Mar 2020  IOI PROPERTIES GROUP BERHAD   \n",
       "1       17 Mar 2020  IOI PROPERTIES GROUP BERHAD   \n",
       "2       17 Mar 2020  IOI PROPERTIES GROUP BERHAD   \n",
       "3       17 Mar 2020  IOI PROPERTIES GROUP BERHAD   \n",
       "4       17 Mar 2020  IOI PROPERTIES GROUP BERHAD   \n",
       "\n",
       "                                               Title  Company Code  \n",
       "0  Changes in Sub. S-hldr's Int (Section 138 of C...          5249  \n",
       "1  DEALINGS IN LISTED SECURITIES (CHAPTER 14 OF L...          5249  \n",
       "2  Changes in Sub. S-hldr's Int (Section 138 of C...          5249  \n",
       "3  Changes in Sub. S-hldr's Int (Section 138 of C...          5249  \n",
       "4  Changes in Director's Interest (Section 219 of...          5249  "
      ]
     },
     "execution_count": 10,
     "metadata": {},
     "output_type": "execute_result"
    }
   ],
   "source": [
    "bursa.head()"
   ]
  },
  {
   "cell_type": "code",
   "execution_count": 11,
   "metadata": {},
   "outputs": [
    {
     "data": {
      "text/plain": [
       "Index(['Announcement Date', 'Company Name', 'Title', 'Company Code'], dtype='object')"
      ]
     },
     "execution_count": 11,
     "metadata": {},
     "output_type": "execute_result"
    }
   ],
   "source": [
    "bursa.columns"
   ]
  },
  {
   "cell_type": "markdown",
   "metadata": {},
   "source": [
    "Rename the columns for Bursa data"
   ]
  },
  {
   "cell_type": "code",
   "execution_count": 12,
   "metadata": {},
   "outputs": [],
   "source": [
    "bursa.columns =['Announcement_Date', 'Company_Name', 'Title', 'Company_Code']"
   ]
  },
  {
   "cell_type": "markdown",
   "metadata": {},
   "source": [
    "Check the column type and make necessary changes (Change the Announcement Date column to datetime format)"
   ]
  },
  {
   "cell_type": "code",
   "execution_count": 13,
   "metadata": {},
   "outputs": [
    {
     "name": "stdout",
     "output_type": "stream",
     "text": [
      "<class 'pandas.core.frame.DataFrame'>\n",
      "RangeIndex: 3015294 entries, 0 to 3015293\n",
      "Data columns (total 4 columns):\n",
      " #   Column             Dtype \n",
      "---  ------             ----- \n",
      " 0   Announcement_Date  object\n",
      " 1   Company_Name       object\n",
      " 2   Title              object\n",
      " 3   Company_Code       int64 \n",
      "dtypes: int64(1), object(3)\n",
      "memory usage: 92.0+ MB\n"
     ]
    }
   ],
   "source": [
    "bursa.info()"
   ]
  },
  {
   "cell_type": "code",
   "execution_count": 14,
   "metadata": {},
   "outputs": [],
   "source": [
    "bursa['Announcement_Date'] = pd.to_datetime(bursa['Announcement_Date'])\n"
   ]
  },
  {
   "cell_type": "markdown",
   "metadata": {},
   "source": [
    "Check null value in the data"
   ]
  },
  {
   "cell_type": "code",
   "execution_count": 15,
   "metadata": {},
   "outputs": [
    {
     "data": {
      "text/plain": [
       "Announcement_Date    0\n",
       "Company_Name         0\n",
       "Title                0\n",
       "Company_Code         0\n",
       "dtype: int64"
      ]
     },
     "execution_count": 15,
     "metadata": {},
     "output_type": "execute_result"
    }
   ],
   "source": [
    "bursa.isnull().sum()"
   ]
  },
  {
   "cell_type": "markdown",
   "metadata": {},
   "source": [
    "Double check the data type for each column"
   ]
  },
  {
   "cell_type": "code",
   "execution_count": 16,
   "metadata": {},
   "outputs": [
    {
     "name": "stdout",
     "output_type": "stream",
     "text": [
      "<class 'pandas.core.frame.DataFrame'>\n",
      "RangeIndex: 3015294 entries, 0 to 3015293\n",
      "Data columns (total 4 columns):\n",
      " #   Column             Dtype         \n",
      "---  ------             -----         \n",
      " 0   Announcement_Date  datetime64[ns]\n",
      " 1   Company_Name       object        \n",
      " 2   Title              object        \n",
      " 3   Company_Code       int64         \n",
      "dtypes: datetime64[ns](1), int64(1), object(2)\n",
      "memory usage: 92.0+ MB\n"
     ]
    }
   ],
   "source": [
    "bursa.info()"
   ]
  },
  {
   "cell_type": "code",
   "execution_count": 17,
   "metadata": {},
   "outputs": [],
   "source": [
    "bursa.to_csv(\"Bursa_Announcement_cleaned.csv\",sep = \"|\")"
   ]
  },
  {
   "cell_type": "markdown",
   "metadata": {},
   "source": [
    "# Historical Price Cleaning"
   ]
  },
  {
   "cell_type": "code",
   "execution_count": 18,
   "metadata": {},
   "outputs": [],
   "source": [
    "historical=pd.read_csv('/home/choobs96/Data Mining/Ori_data/Historical_Price.csv',sep=\"|\").drop(['Unnamed: 0'], axis=1)\n"
   ]
  },
  {
   "cell_type": "code",
   "execution_count": 19,
   "metadata": {},
   "outputs": [
    {
     "data": {
      "text/html": [
       "<div>\n",
       "<style scoped>\n",
       "    .dataframe tbody tr th:only-of-type {\n",
       "        vertical-align: middle;\n",
       "    }\n",
       "\n",
       "    .dataframe tbody tr th {\n",
       "        vertical-align: top;\n",
       "    }\n",
       "\n",
       "    .dataframe thead th {\n",
       "        text-align: right;\n",
       "    }\n",
       "</style>\n",
       "<table border=\"1\" class=\"dataframe\">\n",
       "  <thead>\n",
       "    <tr style=\"text-align: right;\">\n",
       "      <th></th>\n",
       "      <th>Date</th>\n",
       "      <th>High</th>\n",
       "      <th>Low</th>\n",
       "      <th>Open</th>\n",
       "      <th>Close</th>\n",
       "      <th>Volume</th>\n",
       "      <th>Adj Close</th>\n",
       "      <th>Company Code KL</th>\n",
       "    </tr>\n",
       "  </thead>\n",
       "  <tbody>\n",
       "    <tr>\n",
       "      <th>0</th>\n",
       "      <td>2014-01-15</td>\n",
       "      <td>3.21460</td>\n",
       "      <td>2.71796</td>\n",
       "      <td>2.89855</td>\n",
       "      <td>2.79923</td>\n",
       "      <td>73229619.0</td>\n",
       "      <td>2.323783</td>\n",
       "      <td>5249.KL</td>\n",
       "    </tr>\n",
       "    <tr>\n",
       "      <th>1</th>\n",
       "      <td>2014-01-16</td>\n",
       "      <td>2.81729</td>\n",
       "      <td>2.60057</td>\n",
       "      <td>2.79923</td>\n",
       "      <td>2.63669</td>\n",
       "      <td>49003730.0</td>\n",
       "      <td>2.188851</td>\n",
       "      <td>5249.KL</td>\n",
       "    </tr>\n",
       "    <tr>\n",
       "      <th>2</th>\n",
       "      <td>2014-01-20</td>\n",
       "      <td>2.75408</td>\n",
       "      <td>2.68184</td>\n",
       "      <td>2.71796</td>\n",
       "      <td>2.73602</td>\n",
       "      <td>19515133.0</td>\n",
       "      <td>2.271310</td>\n",
       "      <td>5249.KL</td>\n",
       "    </tr>\n",
       "    <tr>\n",
       "      <th>3</th>\n",
       "      <td>2014-01-21</td>\n",
       "      <td>2.70893</td>\n",
       "      <td>2.68184</td>\n",
       "      <td>2.69990</td>\n",
       "      <td>2.69990</td>\n",
       "      <td>13927056.0</td>\n",
       "      <td>2.241324</td>\n",
       "      <td>5249.KL</td>\n",
       "    </tr>\n",
       "    <tr>\n",
       "      <th>4</th>\n",
       "      <td>2014-01-22</td>\n",
       "      <td>2.71796</td>\n",
       "      <td>2.62766</td>\n",
       "      <td>2.69990</td>\n",
       "      <td>2.63669</td>\n",
       "      <td>25070650.0</td>\n",
       "      <td>2.188851</td>\n",
       "      <td>5249.KL</td>\n",
       "    </tr>\n",
       "    <tr>\n",
       "      <th>5</th>\n",
       "      <td>2014-01-23</td>\n",
       "      <td>2.63669</td>\n",
       "      <td>2.53736</td>\n",
       "      <td>2.63669</td>\n",
       "      <td>2.55542</td>\n",
       "      <td>33520043.0</td>\n",
       "      <td>2.121384</td>\n",
       "      <td>5249.KL</td>\n",
       "    </tr>\n",
       "    <tr>\n",
       "      <th>6</th>\n",
       "      <td>2014-01-24</td>\n",
       "      <td>2.59154</td>\n",
       "      <td>2.53736</td>\n",
       "      <td>2.55542</td>\n",
       "      <td>2.57348</td>\n",
       "      <td>9208438.0</td>\n",
       "      <td>2.136377</td>\n",
       "      <td>5249.KL</td>\n",
       "    </tr>\n",
       "    <tr>\n",
       "      <th>7</th>\n",
       "      <td>2014-01-27</td>\n",
       "      <td>2.58251</td>\n",
       "      <td>2.43804</td>\n",
       "      <td>2.51930</td>\n",
       "      <td>2.47415</td>\n",
       "      <td>21669232.0</td>\n",
       "      <td>2.053918</td>\n",
       "      <td>5249.KL</td>\n",
       "    </tr>\n",
       "    <tr>\n",
       "      <th>8</th>\n",
       "      <td>2014-01-28</td>\n",
       "      <td>2.48318</td>\n",
       "      <td>2.41095</td>\n",
       "      <td>2.45609</td>\n",
       "      <td>2.44707</td>\n",
       "      <td>25474426.0</td>\n",
       "      <td>2.031437</td>\n",
       "      <td>5249.KL</td>\n",
       "    </tr>\n",
       "    <tr>\n",
       "      <th>9</th>\n",
       "      <td>2014-01-29</td>\n",
       "      <td>2.48318</td>\n",
       "      <td>2.40192</td>\n",
       "      <td>2.43804</td>\n",
       "      <td>2.41095</td>\n",
       "      <td>15598750.0</td>\n",
       "      <td>2.001452</td>\n",
       "      <td>5249.KL</td>\n",
       "    </tr>\n",
       "  </tbody>\n",
       "</table>\n",
       "</div>"
      ],
      "text/plain": [
       "         Date     High      Low     Open    Close      Volume  Adj Close  \\\n",
       "0  2014-01-15  3.21460  2.71796  2.89855  2.79923  73229619.0   2.323783   \n",
       "1  2014-01-16  2.81729  2.60057  2.79923  2.63669  49003730.0   2.188851   \n",
       "2  2014-01-20  2.75408  2.68184  2.71796  2.73602  19515133.0   2.271310   \n",
       "3  2014-01-21  2.70893  2.68184  2.69990  2.69990  13927056.0   2.241324   \n",
       "4  2014-01-22  2.71796  2.62766  2.69990  2.63669  25070650.0   2.188851   \n",
       "5  2014-01-23  2.63669  2.53736  2.63669  2.55542  33520043.0   2.121384   \n",
       "6  2014-01-24  2.59154  2.53736  2.55542  2.57348   9208438.0   2.136377   \n",
       "7  2014-01-27  2.58251  2.43804  2.51930  2.47415  21669232.0   2.053918   \n",
       "8  2014-01-28  2.48318  2.41095  2.45609  2.44707  25474426.0   2.031437   \n",
       "9  2014-01-29  2.48318  2.40192  2.43804  2.41095  15598750.0   2.001452   \n",
       "\n",
       "  Company Code KL  \n",
       "0         5249.KL  \n",
       "1         5249.KL  \n",
       "2         5249.KL  \n",
       "3         5249.KL  \n",
       "4         5249.KL  \n",
       "5         5249.KL  \n",
       "6         5249.KL  \n",
       "7         5249.KL  \n",
       "8         5249.KL  \n",
       "9         5249.KL  "
      ]
     },
     "execution_count": 19,
     "metadata": {},
     "output_type": "execute_result"
    }
   ],
   "source": [
    "historical.head(10)"
   ]
  },
  {
   "cell_type": "code",
   "execution_count": 20,
   "metadata": {},
   "outputs": [
    {
     "data": {
      "text/plain": [
       "Index(['Date', 'High', 'Low', 'Open', 'Close', 'Volume', 'Adj Close',\n",
       "       'Company Code KL'],\n",
       "      dtype='object')"
      ]
     },
     "execution_count": 20,
     "metadata": {},
     "output_type": "execute_result"
    }
   ],
   "source": [
    "historical.columns"
   ]
  },
  {
   "cell_type": "markdown",
   "metadata": {},
   "source": [
    "Rename the column accordingly"
   ]
  },
  {
   "cell_type": "code",
   "execution_count": 21,
   "metadata": {},
   "outputs": [],
   "source": [
    "historical.columns=['Date_',\n",
    " 'High_P',\n",
    " 'Low_P',\n",
    " 'Open_P',\n",
    " 'Close_P',\n",
    " 'Volume',\n",
    " 'Adj_Close',\n",
    " 'Company_Code_KL']"
   ]
  },
  {
   "cell_type": "markdown",
   "metadata": {},
   "source": [
    "Check for null item in Historical Price"
   ]
  },
  {
   "cell_type": "code",
   "execution_count": 22,
   "metadata": {},
   "outputs": [
    {
     "data": {
      "text/plain": [
       "Date_              0\n",
       "High_P             0\n",
       "Low_P              0\n",
       "Open_P             0\n",
       "Close_P            0\n",
       "Volume             0\n",
       "Adj_Close          0\n",
       "Company_Code_KL    0\n",
       "dtype: int64"
      ]
     },
     "execution_count": 22,
     "metadata": {},
     "output_type": "execute_result"
    }
   ],
   "source": [
    "historical.isnull().sum()"
   ]
  },
  {
   "cell_type": "markdown",
   "metadata": {},
   "source": [
    "Check the column type and make necessary changes (Change the Date column to datetime format)"
   ]
  },
  {
   "cell_type": "code",
   "execution_count": 23,
   "metadata": {},
   "outputs": [
    {
     "name": "stdout",
     "output_type": "stream",
     "text": [
      "<class 'pandas.core.frame.DataFrame'>\n",
      "RangeIndex: 16976 entries, 0 to 16975\n",
      "Data columns (total 8 columns):\n",
      " #   Column           Non-Null Count  Dtype  \n",
      "---  ------           --------------  -----  \n",
      " 0   Date_            16976 non-null  object \n",
      " 1   High_P           16976 non-null  float64\n",
      " 2   Low_P            16976 non-null  float64\n",
      " 3   Open_P           16976 non-null  float64\n",
      " 4   Close_P          16976 non-null  float64\n",
      " 5   Volume           16976 non-null  float64\n",
      " 6   Adj_Close        16976 non-null  float64\n",
      " 7   Company_Code_KL  16976 non-null  object \n",
      "dtypes: float64(6), object(2)\n",
      "memory usage: 1.0+ MB\n"
     ]
    }
   ],
   "source": [
    "historical.info()"
   ]
  },
  {
   "cell_type": "code",
   "execution_count": 24,
   "metadata": {},
   "outputs": [],
   "source": [
    "historical['Date_']= pd.to_datetime(historical['Date_'])\n"
   ]
  },
  {
   "cell_type": "code",
   "execution_count": 25,
   "metadata": {},
   "outputs": [
    {
     "name": "stdout",
     "output_type": "stream",
     "text": [
      "<class 'pandas.core.frame.DataFrame'>\n",
      "RangeIndex: 16976 entries, 0 to 16975\n",
      "Data columns (total 8 columns):\n",
      " #   Column           Non-Null Count  Dtype         \n",
      "---  ------           --------------  -----         \n",
      " 0   Date_            16976 non-null  datetime64[ns]\n",
      " 1   High_P           16976 non-null  float64       \n",
      " 2   Low_P            16976 non-null  float64       \n",
      " 3   Open_P           16976 non-null  float64       \n",
      " 4   Close_P          16976 non-null  float64       \n",
      " 5   Volume           16976 non-null  float64       \n",
      " 6   Adj_Close        16976 non-null  float64       \n",
      " 7   Company_Code_KL  16976 non-null  object        \n",
      "dtypes: datetime64[ns](1), float64(6), object(1)\n",
      "memory usage: 1.0+ MB\n"
     ]
    }
   ],
   "source": [
    "historical.info()"
   ]
  },
  {
   "cell_type": "code",
   "execution_count": 26,
   "metadata": {},
   "outputs": [],
   "source": [
    "historical.to_csv(\"Historical_Price_cleaned.csv\",sep = \"|\")"
   ]
  },
  {
   "cell_type": "markdown",
   "metadata": {},
   "source": [
    "#  Cleaning KLSE Historical Data"
   ]
  },
  {
   "cell_type": "code",
   "execution_count": 27,
   "metadata": {},
   "outputs": [],
   "source": [
    "klse=pd.read_csv('/home/choobs96/Data Mining/Ori_data/KLSE_Historical_data.csv',sep=\"|\").drop(['Unnamed: 0'], axis=1)\n"
   ]
  },
  {
   "cell_type": "markdown",
   "metadata": {},
   "source": [
    "Rename the column accordingly"
   ]
  },
  {
   "cell_type": "code",
   "execution_count": 28,
   "metadata": {},
   "outputs": [
    {
     "data": {
      "text/plain": [
       "Index(['Date', 'Open', 'High', 'Low', 'Close*', 'Adj Close**', 'Volume'], dtype='object')"
      ]
     },
     "execution_count": 28,
     "metadata": {},
     "output_type": "execute_result"
    }
   ],
   "source": [
    "klse.columns"
   ]
  },
  {
   "cell_type": "code",
   "execution_count": 29,
   "metadata": {},
   "outputs": [],
   "source": [
    "klse_col=['Date_', 'Open_P', 'High_P', 'Low_P', 'Close_P', 'Adj_Close', 'Volume']"
   ]
  },
  {
   "cell_type": "code",
   "execution_count": 30,
   "metadata": {},
   "outputs": [],
   "source": [
    "klse.columns = klse_col"
   ]
  },
  {
   "cell_type": "markdown",
   "metadata": {},
   "source": [
    "Check for null values"
   ]
  },
  {
   "cell_type": "code",
   "execution_count": 31,
   "metadata": {
    "scrolled": true
   },
   "outputs": [
    {
     "data": {
      "text/plain": [
       "Date_        0\n",
       "Open_P       0\n",
       "High_P       0\n",
       "Low_P        0\n",
       "Close_P      0\n",
       "Adj_Close    0\n",
       "Volume       0\n",
       "dtype: int64"
      ]
     },
     "execution_count": 31,
     "metadata": {},
     "output_type": "execute_result"
    }
   ],
   "source": [
    "klse.isnull().sum()"
   ]
  },
  {
   "cell_type": "code",
   "execution_count": 32,
   "metadata": {},
   "outputs": [
    {
     "data": {
      "text/html": [
       "<div>\n",
       "<style scoped>\n",
       "    .dataframe tbody tr th:only-of-type {\n",
       "        vertical-align: middle;\n",
       "    }\n",
       "\n",
       "    .dataframe tbody tr th {\n",
       "        vertical-align: top;\n",
       "    }\n",
       "\n",
       "    .dataframe thead th {\n",
       "        text-align: right;\n",
       "    }\n",
       "</style>\n",
       "<table border=\"1\" class=\"dataframe\">\n",
       "  <thead>\n",
       "    <tr style=\"text-align: right;\">\n",
       "      <th></th>\n",
       "      <th>Date_</th>\n",
       "      <th>Open_P</th>\n",
       "      <th>High_P</th>\n",
       "      <th>Low_P</th>\n",
       "      <th>Close_P</th>\n",
       "      <th>Adj_Close</th>\n",
       "      <th>Volume</th>\n",
       "    </tr>\n",
       "  </thead>\n",
       "  <tbody>\n",
       "    <tr>\n",
       "      <th>0</th>\n",
       "      <td>Dec31,2019</td>\n",
       "      <td>1,609.37</td>\n",
       "      <td>1,610.69</td>\n",
       "      <td>1,588.76</td>\n",
       "      <td>1,588.76</td>\n",
       "      <td>1,588.76</td>\n",
       "      <td>104,601,300</td>\n",
       "    </tr>\n",
       "    <tr>\n",
       "      <th>1</th>\n",
       "      <td>Dec30,2019</td>\n",
       "      <td>1,609.45</td>\n",
       "      <td>1,617.43</td>\n",
       "      <td>1,608.76</td>\n",
       "      <td>1,615.67</td>\n",
       "      <td>1,615.67</td>\n",
       "      <td>82,149,800</td>\n",
       "    </tr>\n",
       "    <tr>\n",
       "      <th>2</th>\n",
       "      <td>Dec27,2019</td>\n",
       "      <td>1,599.93</td>\n",
       "      <td>1,610.91</td>\n",
       "      <td>1,598.48</td>\n",
       "      <td>1,610.61</td>\n",
       "      <td>1,610.61</td>\n",
       "      <td>63,765,200</td>\n",
       "    </tr>\n",
       "    <tr>\n",
       "      <th>3</th>\n",
       "      <td>Dec26,2019</td>\n",
       "      <td>1,604.68</td>\n",
       "      <td>1,607.12</td>\n",
       "      <td>1,602.66</td>\n",
       "      <td>1,603.55</td>\n",
       "      <td>1,603.55</td>\n",
       "      <td>22,687,500</td>\n",
       "    </tr>\n",
       "    <tr>\n",
       "      <th>4</th>\n",
       "      <td>Dec24,2019</td>\n",
       "      <td>1,613.83</td>\n",
       "      <td>1,613.87</td>\n",
       "      <td>1,602.10</td>\n",
       "      <td>1,604.23</td>\n",
       "      <td>1,604.23</td>\n",
       "      <td>34,847,100</td>\n",
       "    </tr>\n",
       "  </tbody>\n",
       "</table>\n",
       "</div>"
      ],
      "text/plain": [
       "        Date_    Open_P    High_P     Low_P   Close_P Adj_Close       Volume\n",
       "0  Dec31,2019  1,609.37  1,610.69  1,588.76  1,588.76  1,588.76  104,601,300\n",
       "1  Dec30,2019  1,609.45  1,617.43  1,608.76  1,615.67  1,615.67   82,149,800\n",
       "2  Dec27,2019  1,599.93  1,610.91  1,598.48  1,610.61  1,610.61   63,765,200\n",
       "3  Dec26,2019  1,604.68  1,607.12  1,602.66  1,603.55  1,603.55   22,687,500\n",
       "4  Dec24,2019  1,613.83  1,613.87  1,602.10  1,604.23  1,604.23   34,847,100"
      ]
     },
     "execution_count": 32,
     "metadata": {},
     "output_type": "execute_result"
    }
   ],
   "source": [
    "klse.head()"
   ]
  },
  {
   "cell_type": "markdown",
   "metadata": {},
   "source": [
    "Since the date is in string format, we created a date conversion function to convert it to YYYY-MM-DD date-time format"
   ]
  },
  {
   "cell_type": "code",
   "execution_count": 33,
   "metadata": {},
   "outputs": [],
   "source": [
    "test_date= 'Dec31,2019'"
   ]
  },
  {
   "cell_type": "code",
   "execution_count": 34,
   "metadata": {},
   "outputs": [],
   "source": [
    "def convert_date(i):\n",
    "    month=i[:3]\n",
    "    day=i[3:5]\n",
    "    year=i[6:]\n",
    "    output = year+'-'+month+'-'+day\n",
    "    return output"
   ]
  },
  {
   "cell_type": "code",
   "execution_count": 35,
   "metadata": {},
   "outputs": [
    {
     "data": {
      "text/plain": [
       "'2019-Dec-31'"
      ]
     },
     "execution_count": 35,
     "metadata": {},
     "output_type": "execute_result"
    }
   ],
   "source": [
    "convert_date(test_date)"
   ]
  },
  {
   "cell_type": "code",
   "execution_count": 36,
   "metadata": {},
   "outputs": [],
   "source": [
    "klse['Date_']=klse['Date_'].apply(convert_date)"
   ]
  },
  {
   "cell_type": "code",
   "execution_count": 37,
   "metadata": {},
   "outputs": [],
   "source": [
    "klse['Date_']= pd.to_datetime(klse['Date_'])"
   ]
  },
  {
   "cell_type": "markdown",
   "metadata": {},
   "source": [
    "Check the conversion."
   ]
  },
  {
   "cell_type": "code",
   "execution_count": 38,
   "metadata": {},
   "outputs": [
    {
     "data": {
      "text/html": [
       "<div>\n",
       "<style scoped>\n",
       "    .dataframe tbody tr th:only-of-type {\n",
       "        vertical-align: middle;\n",
       "    }\n",
       "\n",
       "    .dataframe tbody tr th {\n",
       "        vertical-align: top;\n",
       "    }\n",
       "\n",
       "    .dataframe thead th {\n",
       "        text-align: right;\n",
       "    }\n",
       "</style>\n",
       "<table border=\"1\" class=\"dataframe\">\n",
       "  <thead>\n",
       "    <tr style=\"text-align: right;\">\n",
       "      <th></th>\n",
       "      <th>Date_</th>\n",
       "      <th>Open_P</th>\n",
       "      <th>High_P</th>\n",
       "      <th>Low_P</th>\n",
       "      <th>Close_P</th>\n",
       "      <th>Adj_Close</th>\n",
       "      <th>Volume</th>\n",
       "    </tr>\n",
       "  </thead>\n",
       "  <tbody>\n",
       "    <tr>\n",
       "      <th>0</th>\n",
       "      <td>2019-12-31</td>\n",
       "      <td>1,609.37</td>\n",
       "      <td>1,610.69</td>\n",
       "      <td>1,588.76</td>\n",
       "      <td>1,588.76</td>\n",
       "      <td>1,588.76</td>\n",
       "      <td>104,601,300</td>\n",
       "    </tr>\n",
       "    <tr>\n",
       "      <th>1</th>\n",
       "      <td>2019-12-30</td>\n",
       "      <td>1,609.45</td>\n",
       "      <td>1,617.43</td>\n",
       "      <td>1,608.76</td>\n",
       "      <td>1,615.67</td>\n",
       "      <td>1,615.67</td>\n",
       "      <td>82,149,800</td>\n",
       "    </tr>\n",
       "    <tr>\n",
       "      <th>2</th>\n",
       "      <td>2019-12-27</td>\n",
       "      <td>1,599.93</td>\n",
       "      <td>1,610.91</td>\n",
       "      <td>1,598.48</td>\n",
       "      <td>1,610.61</td>\n",
       "      <td>1,610.61</td>\n",
       "      <td>63,765,200</td>\n",
       "    </tr>\n",
       "    <tr>\n",
       "      <th>3</th>\n",
       "      <td>2019-12-26</td>\n",
       "      <td>1,604.68</td>\n",
       "      <td>1,607.12</td>\n",
       "      <td>1,602.66</td>\n",
       "      <td>1,603.55</td>\n",
       "      <td>1,603.55</td>\n",
       "      <td>22,687,500</td>\n",
       "    </tr>\n",
       "    <tr>\n",
       "      <th>4</th>\n",
       "      <td>2019-12-24</td>\n",
       "      <td>1,613.83</td>\n",
       "      <td>1,613.87</td>\n",
       "      <td>1,602.10</td>\n",
       "      <td>1,604.23</td>\n",
       "      <td>1,604.23</td>\n",
       "      <td>34,847,100</td>\n",
       "    </tr>\n",
       "    <tr>\n",
       "      <th>...</th>\n",
       "      <td>...</td>\n",
       "      <td>...</td>\n",
       "      <td>...</td>\n",
       "      <td>...</td>\n",
       "      <td>...</td>\n",
       "      <td>...</td>\n",
       "      <td>...</td>\n",
       "    </tr>\n",
       "    <tr>\n",
       "      <th>2465</th>\n",
       "      <td>2010-01-08</td>\n",
       "      <td>1,294.93</td>\n",
       "      <td>1,295.51</td>\n",
       "      <td>1,290.86</td>\n",
       "      <td>1,292.98</td>\n",
       "      <td>1,292.98</td>\n",
       "      <td>74,587,200</td>\n",
       "    </tr>\n",
       "    <tr>\n",
       "      <th>2466</th>\n",
       "      <td>2010-01-07</td>\n",
       "      <td>1,293.69</td>\n",
       "      <td>1,299.70</td>\n",
       "      <td>1,290.36</td>\n",
       "      <td>1,291.42</td>\n",
       "      <td>1,291.42</td>\n",
       "      <td>115,024,400</td>\n",
       "    </tr>\n",
       "    <tr>\n",
       "      <th>2467</th>\n",
       "      <td>2010-01-06</td>\n",
       "      <td>1,288.86</td>\n",
       "      <td>1,296.44</td>\n",
       "      <td>1,288.02</td>\n",
       "      <td>1,293.17</td>\n",
       "      <td>1,293.17</td>\n",
       "      <td>117,740,300</td>\n",
       "    </tr>\n",
       "    <tr>\n",
       "      <th>2468</th>\n",
       "      <td>2010-01-05</td>\n",
       "      <td>1,278.26</td>\n",
       "      <td>1,290.55</td>\n",
       "      <td>1,278.26</td>\n",
       "      <td>1,288.24</td>\n",
       "      <td>1,288.24</td>\n",
       "      <td>136,646,600</td>\n",
       "    </tr>\n",
       "    <tr>\n",
       "      <th>2469</th>\n",
       "      <td>2010-01-04</td>\n",
       "      <td>1,272.31</td>\n",
       "      <td>1,275.75</td>\n",
       "      <td>1,272.25</td>\n",
       "      <td>1,275.75</td>\n",
       "      <td>1,275.75</td>\n",
       "      <td>56,508,200</td>\n",
       "    </tr>\n",
       "  </tbody>\n",
       "</table>\n",
       "<p>2470 rows × 7 columns</p>\n",
       "</div>"
      ],
      "text/plain": [
       "          Date_    Open_P    High_P     Low_P   Close_P Adj_Close       Volume\n",
       "0    2019-12-31  1,609.37  1,610.69  1,588.76  1,588.76  1,588.76  104,601,300\n",
       "1    2019-12-30  1,609.45  1,617.43  1,608.76  1,615.67  1,615.67   82,149,800\n",
       "2    2019-12-27  1,599.93  1,610.91  1,598.48  1,610.61  1,610.61   63,765,200\n",
       "3    2019-12-26  1,604.68  1,607.12  1,602.66  1,603.55  1,603.55   22,687,500\n",
       "4    2019-12-24  1,613.83  1,613.87  1,602.10  1,604.23  1,604.23   34,847,100\n",
       "...         ...       ...       ...       ...       ...       ...          ...\n",
       "2465 2010-01-08  1,294.93  1,295.51  1,290.86  1,292.98  1,292.98   74,587,200\n",
       "2466 2010-01-07  1,293.69  1,299.70  1,290.36  1,291.42  1,291.42  115,024,400\n",
       "2467 2010-01-06  1,288.86  1,296.44  1,288.02  1,293.17  1,293.17  117,740,300\n",
       "2468 2010-01-05  1,278.26  1,290.55  1,278.26  1,288.24  1,288.24  136,646,600\n",
       "2469 2010-01-04  1,272.31  1,275.75  1,272.25  1,275.75  1,275.75   56,508,200\n",
       "\n",
       "[2470 rows x 7 columns]"
      ]
     },
     "execution_count": 38,
     "metadata": {},
     "output_type": "execute_result"
    }
   ],
   "source": [
    "klse"
   ]
  },
  {
   "cell_type": "markdown",
   "metadata": {},
   "source": [
    "Note that all of the other column should be in float instead of string"
   ]
  },
  {
   "cell_type": "code",
   "execution_count": 39,
   "metadata": {},
   "outputs": [
    {
     "name": "stdout",
     "output_type": "stream",
     "text": [
      "<class 'pandas.core.frame.DataFrame'>\n",
      "RangeIndex: 2470 entries, 0 to 2469\n",
      "Data columns (total 7 columns):\n",
      " #   Column     Non-Null Count  Dtype         \n",
      "---  ------     --------------  -----         \n",
      " 0   Date_      2470 non-null   datetime64[ns]\n",
      " 1   Open_P     2470 non-null   object        \n",
      " 2   High_P     2470 non-null   object        \n",
      " 3   Low_P      2470 non-null   object        \n",
      " 4   Close_P    2470 non-null   object        \n",
      " 5   Adj_Close  2470 non-null   object        \n",
      " 6   Volume     2470 non-null   object        \n",
      "dtypes: datetime64[ns](1), object(6)\n",
      "memory usage: 135.2+ KB\n"
     ]
    }
   ],
   "source": [
    "klse.info()"
   ]
  },
  {
   "cell_type": "markdown",
   "metadata": {},
   "source": [
    "Note that there's a ',' in each column that should be removed to be converted to float. When converting to float we found out that the columns has \"-\" which represents null. So these are replaced with NaN."
   ]
  },
  {
   "cell_type": "code",
   "execution_count": 40,
   "metadata": {},
   "outputs": [],
   "source": [
    "for i in klse_col:\n",
    "    if i!='Date_':\n",
    "        klse[i]=klse[i].str.replace(',', '').replace('-', np.nan ).astype(float)"
   ]
  },
  {
   "cell_type": "markdown",
   "metadata": {},
   "source": [
    "Save a copy for future use"
   ]
  },
  {
   "cell_type": "code",
   "execution_count": 41,
   "metadata": {},
   "outputs": [],
   "source": [
    "klse_null = klse #values with null"
   ]
  },
  {
   "cell_type": "code",
   "execution_count": 42,
   "metadata": {},
   "outputs": [
    {
     "data": {
      "text/plain": [
       "Date_         0\n",
       "Open_P       21\n",
       "High_P       21\n",
       "Low_P        21\n",
       "Close_P      21\n",
       "Adj_Close    21\n",
       "Volume       32\n",
       "dtype: int64"
      ]
     },
     "execution_count": 42,
     "metadata": {},
     "output_type": "execute_result"
    }
   ],
   "source": [
    "klse_null.isnull().sum()"
   ]
  },
  {
   "cell_type": "markdown",
   "metadata": {},
   "source": [
    "Check the column type again"
   ]
  },
  {
   "cell_type": "code",
   "execution_count": 43,
   "metadata": {},
   "outputs": [
    {
     "name": "stdout",
     "output_type": "stream",
     "text": [
      "<class 'pandas.core.frame.DataFrame'>\n",
      "RangeIndex: 2470 entries, 0 to 2469\n",
      "Data columns (total 7 columns):\n",
      " #   Column     Non-Null Count  Dtype         \n",
      "---  ------     --------------  -----         \n",
      " 0   Date_      2470 non-null   datetime64[ns]\n",
      " 1   Open_P     2449 non-null   float64       \n",
      " 2   High_P     2449 non-null   float64       \n",
      " 3   Low_P      2449 non-null   float64       \n",
      " 4   Close_P    2449 non-null   float64       \n",
      " 5   Adj_Close  2449 non-null   float64       \n",
      " 6   Volume     2438 non-null   float64       \n",
      "dtypes: datetime64[ns](1), float64(6)\n",
      "memory usage: 135.2 KB\n"
     ]
    }
   ],
   "source": [
    "klse.info()"
   ]
  },
  {
   "cell_type": "markdown",
   "metadata": {},
   "source": [
    "Drop null rows"
   ]
  },
  {
   "cell_type": "code",
   "execution_count": 44,
   "metadata": {},
   "outputs": [],
   "source": [
    "klse_removed_na=klse.dropna()"
   ]
  },
  {
   "cell_type": "code",
   "execution_count": 45,
   "metadata": {},
   "outputs": [
    {
     "data": {
      "text/html": [
       "<div>\n",
       "<style scoped>\n",
       "    .dataframe tbody tr th:only-of-type {\n",
       "        vertical-align: middle;\n",
       "    }\n",
       "\n",
       "    .dataframe tbody tr th {\n",
       "        vertical-align: top;\n",
       "    }\n",
       "\n",
       "    .dataframe thead th {\n",
       "        text-align: right;\n",
       "    }\n",
       "</style>\n",
       "<table border=\"1\" class=\"dataframe\">\n",
       "  <thead>\n",
       "    <tr style=\"text-align: right;\">\n",
       "      <th></th>\n",
       "      <th>Date_</th>\n",
       "      <th>Open_P</th>\n",
       "      <th>High_P</th>\n",
       "      <th>Low_P</th>\n",
       "      <th>Close_P</th>\n",
       "      <th>Adj_Close</th>\n",
       "      <th>Volume</th>\n",
       "    </tr>\n",
       "  </thead>\n",
       "  <tbody>\n",
       "    <tr>\n",
       "      <th>0</th>\n",
       "      <td>2019-12-31</td>\n",
       "      <td>1609.37</td>\n",
       "      <td>1610.69</td>\n",
       "      <td>1588.76</td>\n",
       "      <td>1588.76</td>\n",
       "      <td>1588.76</td>\n",
       "      <td>104601300.0</td>\n",
       "    </tr>\n",
       "    <tr>\n",
       "      <th>1</th>\n",
       "      <td>2019-12-30</td>\n",
       "      <td>1609.45</td>\n",
       "      <td>1617.43</td>\n",
       "      <td>1608.76</td>\n",
       "      <td>1615.67</td>\n",
       "      <td>1615.67</td>\n",
       "      <td>82149800.0</td>\n",
       "    </tr>\n",
       "    <tr>\n",
       "      <th>2</th>\n",
       "      <td>2019-12-27</td>\n",
       "      <td>1599.93</td>\n",
       "      <td>1610.91</td>\n",
       "      <td>1598.48</td>\n",
       "      <td>1610.61</td>\n",
       "      <td>1610.61</td>\n",
       "      <td>63765200.0</td>\n",
       "    </tr>\n",
       "    <tr>\n",
       "      <th>3</th>\n",
       "      <td>2019-12-26</td>\n",
       "      <td>1604.68</td>\n",
       "      <td>1607.12</td>\n",
       "      <td>1602.66</td>\n",
       "      <td>1603.55</td>\n",
       "      <td>1603.55</td>\n",
       "      <td>22687500.0</td>\n",
       "    </tr>\n",
       "    <tr>\n",
       "      <th>4</th>\n",
       "      <td>2019-12-24</td>\n",
       "      <td>1613.83</td>\n",
       "      <td>1613.87</td>\n",
       "      <td>1602.10</td>\n",
       "      <td>1604.23</td>\n",
       "      <td>1604.23</td>\n",
       "      <td>34847100.0</td>\n",
       "    </tr>\n",
       "    <tr>\n",
       "      <th>...</th>\n",
       "      <td>...</td>\n",
       "      <td>...</td>\n",
       "      <td>...</td>\n",
       "      <td>...</td>\n",
       "      <td>...</td>\n",
       "      <td>...</td>\n",
       "      <td>...</td>\n",
       "    </tr>\n",
       "    <tr>\n",
       "      <th>2465</th>\n",
       "      <td>2010-01-08</td>\n",
       "      <td>1294.93</td>\n",
       "      <td>1295.51</td>\n",
       "      <td>1290.86</td>\n",
       "      <td>1292.98</td>\n",
       "      <td>1292.98</td>\n",
       "      <td>74587200.0</td>\n",
       "    </tr>\n",
       "    <tr>\n",
       "      <th>2466</th>\n",
       "      <td>2010-01-07</td>\n",
       "      <td>1293.69</td>\n",
       "      <td>1299.70</td>\n",
       "      <td>1290.36</td>\n",
       "      <td>1291.42</td>\n",
       "      <td>1291.42</td>\n",
       "      <td>115024400.0</td>\n",
       "    </tr>\n",
       "    <tr>\n",
       "      <th>2467</th>\n",
       "      <td>2010-01-06</td>\n",
       "      <td>1288.86</td>\n",
       "      <td>1296.44</td>\n",
       "      <td>1288.02</td>\n",
       "      <td>1293.17</td>\n",
       "      <td>1293.17</td>\n",
       "      <td>117740300.0</td>\n",
       "    </tr>\n",
       "    <tr>\n",
       "      <th>2468</th>\n",
       "      <td>2010-01-05</td>\n",
       "      <td>1278.26</td>\n",
       "      <td>1290.55</td>\n",
       "      <td>1278.26</td>\n",
       "      <td>1288.24</td>\n",
       "      <td>1288.24</td>\n",
       "      <td>136646600.0</td>\n",
       "    </tr>\n",
       "    <tr>\n",
       "      <th>2469</th>\n",
       "      <td>2010-01-04</td>\n",
       "      <td>1272.31</td>\n",
       "      <td>1275.75</td>\n",
       "      <td>1272.25</td>\n",
       "      <td>1275.75</td>\n",
       "      <td>1275.75</td>\n",
       "      <td>56508200.0</td>\n",
       "    </tr>\n",
       "  </tbody>\n",
       "</table>\n",
       "<p>2438 rows × 7 columns</p>\n",
       "</div>"
      ],
      "text/plain": [
       "          Date_   Open_P   High_P    Low_P  Close_P  Adj_Close       Volume\n",
       "0    2019-12-31  1609.37  1610.69  1588.76  1588.76    1588.76  104601300.0\n",
       "1    2019-12-30  1609.45  1617.43  1608.76  1615.67    1615.67   82149800.0\n",
       "2    2019-12-27  1599.93  1610.91  1598.48  1610.61    1610.61   63765200.0\n",
       "3    2019-12-26  1604.68  1607.12  1602.66  1603.55    1603.55   22687500.0\n",
       "4    2019-12-24  1613.83  1613.87  1602.10  1604.23    1604.23   34847100.0\n",
       "...         ...      ...      ...      ...      ...        ...          ...\n",
       "2465 2010-01-08  1294.93  1295.51  1290.86  1292.98    1292.98   74587200.0\n",
       "2466 2010-01-07  1293.69  1299.70  1290.36  1291.42    1291.42  115024400.0\n",
       "2467 2010-01-06  1288.86  1296.44  1288.02  1293.17    1293.17  117740300.0\n",
       "2468 2010-01-05  1278.26  1290.55  1278.26  1288.24    1288.24  136646600.0\n",
       "2469 2010-01-04  1272.31  1275.75  1272.25  1275.75    1275.75   56508200.0\n",
       "\n",
       "[2438 rows x 7 columns]"
      ]
     },
     "execution_count": 45,
     "metadata": {},
     "output_type": "execute_result"
    }
   ],
   "source": [
    "klse_removed_na"
   ]
  },
  {
   "cell_type": "code",
   "execution_count": 46,
   "metadata": {},
   "outputs": [],
   "source": [
    "klse_removed_na.to_csv('KLSE_Historical_data_cleaned.csv',sep = \"|\")"
   ]
  },
  {
   "cell_type": "markdown",
   "metadata": {},
   "source": [
    "# Quarter Report data cleaning"
   ]
  },
  {
   "cell_type": "code",
   "execution_count": 47,
   "metadata": {},
   "outputs": [],
   "source": [
    "quarter=pd.read_csv('/home/choobs96/Data Mining/Ori_data/Scraped_data_property.csv',sep=\"|\").drop(['Unnamed: 0'], axis=1)"
   ]
  },
  {
   "cell_type": "code",
   "execution_count": 48,
   "metadata": {},
   "outputs": [
    {
     "data": {
      "text/plain": [
       "Index(['Date', 'Financial Year', 'No. ', 'Financial Quarter',\n",
       "       'Revenue (RM,000)', 'PBT (RM,000)', 'Net Profit (RM,000)', 'EPS (Cent)',\n",
       "       'Dividend (Cent)', 'NTA (RM)', 'YoY (%)', 'Company Code'],\n",
       "      dtype='object')"
      ]
     },
     "execution_count": 48,
     "metadata": {},
     "output_type": "execute_result"
    }
   ],
   "source": [
    "quarter.columns"
   ]
  },
  {
   "cell_type": "markdown",
   "metadata": {},
   "source": [
    "Rename the columns accordingly"
   ]
  },
  {
   "cell_type": "code",
   "execution_count": 49,
   "metadata": {},
   "outputs": [],
   "source": [
    "quarter_col= ['Date_',\n",
    " 'Financial_Year',\n",
    " 'Quarter_No',\n",
    " 'Financial_Quarter',\n",
    " 'Revenue_K',\n",
    " 'PBT_K',\n",
    " 'Net_Profit_K',\n",
    " 'EPS_Cent',\n",
    " 'Dividend_Cent',\n",
    " 'NTA',\n",
    " 'YoY_percent',\n",
    " 'Company_Code']"
   ]
  },
  {
   "cell_type": "code",
   "execution_count": 50,
   "metadata": {},
   "outputs": [],
   "source": [
    "quarter.columns = quarter_col"
   ]
  },
  {
   "cell_type": "code",
   "execution_count": 51,
   "metadata": {},
   "outputs": [
    {
     "data": {
      "text/html": [
       "<div>\n",
       "<style scoped>\n",
       "    .dataframe tbody tr th:only-of-type {\n",
       "        vertical-align: middle;\n",
       "    }\n",
       "\n",
       "    .dataframe tbody tr th {\n",
       "        vertical-align: top;\n",
       "    }\n",
       "\n",
       "    .dataframe thead th {\n",
       "        text-align: right;\n",
       "    }\n",
       "</style>\n",
       "<table border=\"1\" class=\"dataframe\">\n",
       "  <thead>\n",
       "    <tr style=\"text-align: right;\">\n",
       "      <th></th>\n",
       "      <th>Date_</th>\n",
       "      <th>Financial_Year</th>\n",
       "      <th>Quarter_No</th>\n",
       "      <th>Financial_Quarter</th>\n",
       "      <th>Revenue_K</th>\n",
       "      <th>PBT_K</th>\n",
       "      <th>Net_Profit_K</th>\n",
       "      <th>EPS_Cent</th>\n",
       "      <th>Dividend_Cent</th>\n",
       "      <th>NTA</th>\n",
       "      <th>YoY_percent</th>\n",
       "      <th>Company_Code</th>\n",
       "    </tr>\n",
       "  </thead>\n",
       "  <tbody>\n",
       "    <tr>\n",
       "      <th>0</th>\n",
       "      <td>25 Feb 2020</td>\n",
       "      <td>30 Jun 2020</td>\n",
       "      <td>2</td>\n",
       "      <td>31 Dec 2019</td>\n",
       "      <td>564,129</td>\n",
       "      <td>286,301</td>\n",
       "      <td>199,749</td>\n",
       "      <td>3.63</td>\n",
       "      <td>0.0</td>\n",
       "      <td>3.43</td>\n",
       "      <td>7%</td>\n",
       "      <td>5249</td>\n",
       "    </tr>\n",
       "    <tr>\n",
       "      <th>1</th>\n",
       "      <td>25 Nov 2019</td>\n",
       "      <td>30 Jun 2020</td>\n",
       "      <td>1</td>\n",
       "      <td>30 Sep 2019</td>\n",
       "      <td>540,315</td>\n",
       "      <td>255,649</td>\n",
       "      <td>136,636</td>\n",
       "      <td>2.48</td>\n",
       "      <td>0.0</td>\n",
       "      <td>3.40</td>\n",
       "      <td>22%</td>\n",
       "      <td>5249</td>\n",
       "    </tr>\n",
       "    <tr>\n",
       "      <th>2</th>\n",
       "      <td>29 Aug 2019</td>\n",
       "      <td>30 Jun 2019</td>\n",
       "      <td>4</td>\n",
       "      <td>30 Jun 2019</td>\n",
       "      <td>497,791</td>\n",
       "      <td>227,892</td>\n",
       "      <td>139,768</td>\n",
       "      <td>2.54</td>\n",
       "      <td>3.0</td>\n",
       "      <td>3.42</td>\n",
       "      <td>47%</td>\n",
       "      <td>5249</td>\n",
       "    </tr>\n",
       "    <tr>\n",
       "      <th>3</th>\n",
       "      <td>27 May 2019</td>\n",
       "      <td>30 Jun 2019</td>\n",
       "      <td>3</td>\n",
       "      <td>31 Mar 2019</td>\n",
       "      <td>487,739</td>\n",
       "      <td>300,902</td>\n",
       "      <td>194,700</td>\n",
       "      <td>3.54</td>\n",
       "      <td>0.0</td>\n",
       "      <td>3.38</td>\n",
       "      <td>17%</td>\n",
       "      <td>5249</td>\n",
       "    </tr>\n",
       "    <tr>\n",
       "      <th>4</th>\n",
       "      <td>26 Feb 2019</td>\n",
       "      <td>30 Jun 2019</td>\n",
       "      <td>2</td>\n",
       "      <td>31 Dec 2018</td>\n",
       "      <td>666,150</td>\n",
       "      <td>355,012</td>\n",
       "      <td>214,864</td>\n",
       "      <td>3.90</td>\n",
       "      <td>0.0</td>\n",
       "      <td>3.36</td>\n",
       "      <td>97%</td>\n",
       "      <td>5249</td>\n",
       "    </tr>\n",
       "  </tbody>\n",
       "</table>\n",
       "</div>"
      ],
      "text/plain": [
       "         Date_ Financial_Year Quarter_No Financial_Quarter Revenue_K    PBT_K  \\\n",
       "0  25 Feb 2020    30 Jun 2020          2       31 Dec 2019   564,129  286,301   \n",
       "1  25 Nov 2019    30 Jun 2020          1       30 Sep 2019   540,315  255,649   \n",
       "2  29 Aug 2019    30 Jun 2019          4       30 Jun 2019   497,791  227,892   \n",
       "3  27 May 2019    30 Jun 2019          3       31 Mar 2019   487,739  300,902   \n",
       "4  26 Feb 2019    30 Jun 2019          2       31 Dec 2018   666,150  355,012   \n",
       "\n",
       "  Net_Profit_K  EPS_Cent  Dividend_Cent   NTA YoY_percent  Company_Code  \n",
       "0      199,749      3.63            0.0  3.43          7%          5249  \n",
       "1      136,636      2.48            0.0  3.40         22%          5249  \n",
       "2      139,768      2.54            3.0  3.42         47%          5249  \n",
       "3      194,700      3.54            0.0  3.38         17%          5249  \n",
       "4      214,864      3.90            0.0  3.36         97%          5249  "
      ]
     },
     "execution_count": 51,
     "metadata": {},
     "output_type": "execute_result"
    }
   ],
   "source": [
    "quarter.head()"
   ]
  },
  {
   "cell_type": "markdown",
   "metadata": {},
   "source": [
    "Check column type"
   ]
  },
  {
   "cell_type": "code",
   "execution_count": 52,
   "metadata": {},
   "outputs": [
    {
     "name": "stdout",
     "output_type": "stream",
     "text": [
      "<class 'pandas.core.frame.DataFrame'>\n",
      "RangeIndex: 385 entries, 0 to 384\n",
      "Data columns (total 12 columns):\n",
      " #   Column             Non-Null Count  Dtype  \n",
      "---  ------             --------------  -----  \n",
      " 0   Date_              385 non-null    object \n",
      " 1   Financial_Year     385 non-null    object \n",
      " 2   Quarter_No         385 non-null    object \n",
      " 3   Financial_Quarter  385 non-null    object \n",
      " 4   Revenue_K          385 non-null    object \n",
      " 5   PBT_K              385 non-null    object \n",
      " 6   Net_Profit_K       385 non-null    object \n",
      " 7   EPS_Cent           385 non-null    float64\n",
      " 8   Dividend_Cent      385 non-null    float64\n",
      " 9   NTA                385 non-null    float64\n",
      " 10  YoY_percent        385 non-null    object \n",
      " 11  Company_Code       385 non-null    int64  \n",
      "dtypes: float64(3), int64(1), object(8)\n",
      "memory usage: 36.2+ KB\n"
     ]
    }
   ],
   "source": [
    "quarter.info()"
   ]
  },
  {
   "cell_type": "markdown",
   "metadata": {},
   "source": [
    "Change the column to suitable type and replace , for int float values and replace '-' to np.nan"
   ]
  },
  {
   "cell_type": "code",
   "execution_count": 53,
   "metadata": {},
   "outputs": [],
   "source": [
    "quarter['Date_'] = pd.to_datetime(quarter['Date_'])\n",
    "quarter['Financial_Year'] = pd.to_datetime(quarter['Financial_Year'])\n",
    "quarter['Financial_Quarter'] = pd.to_datetime(quarter['Financial_Quarter'])\n",
    "quarter['Quarter_No']=quarter['Quarter_No'].replace('-', np.nan).astype(float)\n",
    "quarter['Revenue_K']=quarter['Revenue_K'].str.replace(',', '').astype(float)\n",
    "quarter['PBT_K']=quarter['PBT_K'].str.replace(',', '').astype(float)\n",
    "quarter['Net_Profit_K']=quarter['Net_Profit_K'].str.replace(',', '').astype(float)\n"
   ]
  },
  {
   "cell_type": "code",
   "execution_count": 54,
   "metadata": {},
   "outputs": [
    {
     "data": {
      "text/html": [
       "<div>\n",
       "<style scoped>\n",
       "    .dataframe tbody tr th:only-of-type {\n",
       "        vertical-align: middle;\n",
       "    }\n",
       "\n",
       "    .dataframe tbody tr th {\n",
       "        vertical-align: top;\n",
       "    }\n",
       "\n",
       "    .dataframe thead th {\n",
       "        text-align: right;\n",
       "    }\n",
       "</style>\n",
       "<table border=\"1\" class=\"dataframe\">\n",
       "  <thead>\n",
       "    <tr style=\"text-align: right;\">\n",
       "      <th></th>\n",
       "      <th>Date_</th>\n",
       "      <th>Financial_Year</th>\n",
       "      <th>Quarter_No</th>\n",
       "      <th>Financial_Quarter</th>\n",
       "      <th>Revenue_K</th>\n",
       "      <th>PBT_K</th>\n",
       "      <th>Net_Profit_K</th>\n",
       "      <th>EPS_Cent</th>\n",
       "      <th>Dividend_Cent</th>\n",
       "      <th>NTA</th>\n",
       "      <th>YoY_percent</th>\n",
       "      <th>Company_Code</th>\n",
       "    </tr>\n",
       "  </thead>\n",
       "  <tbody>\n",
       "    <tr>\n",
       "      <th>0</th>\n",
       "      <td>2020-02-25</td>\n",
       "      <td>2020-06-30</td>\n",
       "      <td>2.0</td>\n",
       "      <td>2019-12-31</td>\n",
       "      <td>564129.0</td>\n",
       "      <td>286301.0</td>\n",
       "      <td>199749.0</td>\n",
       "      <td>3.63</td>\n",
       "      <td>0.0</td>\n",
       "      <td>3.43</td>\n",
       "      <td>7%</td>\n",
       "      <td>5249</td>\n",
       "    </tr>\n",
       "    <tr>\n",
       "      <th>1</th>\n",
       "      <td>2019-11-25</td>\n",
       "      <td>2020-06-30</td>\n",
       "      <td>1.0</td>\n",
       "      <td>2019-09-30</td>\n",
       "      <td>540315.0</td>\n",
       "      <td>255649.0</td>\n",
       "      <td>136636.0</td>\n",
       "      <td>2.48</td>\n",
       "      <td>0.0</td>\n",
       "      <td>3.40</td>\n",
       "      <td>22%</td>\n",
       "      <td>5249</td>\n",
       "    </tr>\n",
       "    <tr>\n",
       "      <th>2</th>\n",
       "      <td>2019-08-29</td>\n",
       "      <td>2019-06-30</td>\n",
       "      <td>4.0</td>\n",
       "      <td>2019-06-30</td>\n",
       "      <td>497791.0</td>\n",
       "      <td>227892.0</td>\n",
       "      <td>139768.0</td>\n",
       "      <td>2.54</td>\n",
       "      <td>3.0</td>\n",
       "      <td>3.42</td>\n",
       "      <td>47%</td>\n",
       "      <td>5249</td>\n",
       "    </tr>\n",
       "    <tr>\n",
       "      <th>3</th>\n",
       "      <td>2019-05-27</td>\n",
       "      <td>2019-06-30</td>\n",
       "      <td>3.0</td>\n",
       "      <td>2019-03-31</td>\n",
       "      <td>487739.0</td>\n",
       "      <td>300902.0</td>\n",
       "      <td>194700.0</td>\n",
       "      <td>3.54</td>\n",
       "      <td>0.0</td>\n",
       "      <td>3.38</td>\n",
       "      <td>17%</td>\n",
       "      <td>5249</td>\n",
       "    </tr>\n",
       "    <tr>\n",
       "      <th>4</th>\n",
       "      <td>2019-02-26</td>\n",
       "      <td>2019-06-30</td>\n",
       "      <td>2.0</td>\n",
       "      <td>2018-12-31</td>\n",
       "      <td>666150.0</td>\n",
       "      <td>355012.0</td>\n",
       "      <td>214864.0</td>\n",
       "      <td>3.90</td>\n",
       "      <td>0.0</td>\n",
       "      <td>3.36</td>\n",
       "      <td>97%</td>\n",
       "      <td>5249</td>\n",
       "    </tr>\n",
       "  </tbody>\n",
       "</table>\n",
       "</div>"
      ],
      "text/plain": [
       "       Date_ Financial_Year  Quarter_No Financial_Quarter  Revenue_K  \\\n",
       "0 2020-02-25     2020-06-30         2.0        2019-12-31   564129.0   \n",
       "1 2019-11-25     2020-06-30         1.0        2019-09-30   540315.0   \n",
       "2 2019-08-29     2019-06-30         4.0        2019-06-30   497791.0   \n",
       "3 2019-05-27     2019-06-30         3.0        2019-03-31   487739.0   \n",
       "4 2019-02-26     2019-06-30         2.0        2018-12-31   666150.0   \n",
       "\n",
       "      PBT_K  Net_Profit_K  EPS_Cent  Dividend_Cent   NTA YoY_percent  \\\n",
       "0  286301.0      199749.0      3.63            0.0  3.43          7%   \n",
       "1  255649.0      136636.0      2.48            0.0  3.40         22%   \n",
       "2  227892.0      139768.0      2.54            3.0  3.42         47%   \n",
       "3  300902.0      194700.0      3.54            0.0  3.38         17%   \n",
       "4  355012.0      214864.0      3.90            0.0  3.36         97%   \n",
       "\n",
       "   Company_Code  \n",
       "0          5249  \n",
       "1          5249  \n",
       "2          5249  \n",
       "3          5249  \n",
       "4          5249  "
      ]
     },
     "execution_count": 54,
     "metadata": {},
     "output_type": "execute_result"
    }
   ],
   "source": [
    "quarter.head()"
   ]
  },
  {
   "cell_type": "markdown",
   "metadata": {},
   "source": [
    "Check column type"
   ]
  },
  {
   "cell_type": "code",
   "execution_count": 55,
   "metadata": {},
   "outputs": [
    {
     "name": "stdout",
     "output_type": "stream",
     "text": [
      "<class 'pandas.core.frame.DataFrame'>\n",
      "RangeIndex: 385 entries, 0 to 384\n",
      "Data columns (total 12 columns):\n",
      " #   Column             Non-Null Count  Dtype         \n",
      "---  ------             --------------  -----         \n",
      " 0   Date_              385 non-null    datetime64[ns]\n",
      " 1   Financial_Year     385 non-null    datetime64[ns]\n",
      " 2   Quarter_No         373 non-null    float64       \n",
      " 3   Financial_Quarter  385 non-null    datetime64[ns]\n",
      " 4   Revenue_K          385 non-null    float64       \n",
      " 5   PBT_K              385 non-null    float64       \n",
      " 6   Net_Profit_K       385 non-null    float64       \n",
      " 7   EPS_Cent           385 non-null    float64       \n",
      " 8   Dividend_Cent      385 non-null    float64       \n",
      " 9   NTA                385 non-null    float64       \n",
      " 10  YoY_percent        385 non-null    object        \n",
      " 11  Company_Code       385 non-null    int64         \n",
      "dtypes: datetime64[ns](3), float64(7), int64(1), object(1)\n",
      "memory usage: 36.2+ KB\n"
     ]
    }
   ],
   "source": [
    "quarter.info()"
   ]
  },
  {
   "cell_type": "markdown",
   "metadata": {},
   "source": [
    "Check for null rows "
   ]
  },
  {
   "cell_type": "code",
   "execution_count": 56,
   "metadata": {},
   "outputs": [
    {
     "data": {
      "text/plain": [
       "Date_                 0\n",
       "Financial_Year        0\n",
       "Quarter_No           12\n",
       "Financial_Quarter     0\n",
       "Revenue_K             0\n",
       "PBT_K                 0\n",
       "Net_Profit_K          0\n",
       "EPS_Cent              0\n",
       "Dividend_Cent         0\n",
       "NTA                   0\n",
       "YoY_percent           0\n",
       "Company_Code          0\n",
       "dtype: int64"
      ]
     },
     "execution_count": 56,
     "metadata": {},
     "output_type": "execute_result"
    }
   ],
   "source": [
    "quarter.isnull().sum()"
   ]
  },
  {
   "cell_type": "code",
   "execution_count": 57,
   "metadata": {},
   "outputs": [],
   "source": [
    "quarter_null = quarter"
   ]
  },
  {
   "cell_type": "code",
   "execution_count": 58,
   "metadata": {},
   "outputs": [],
   "source": [
    "quarter_remove_na=quarter.dropna()"
   ]
  },
  {
   "cell_type": "code",
   "execution_count": 59,
   "metadata": {},
   "outputs": [
    {
     "data": {
      "text/plain": [
       "Date_                0\n",
       "Financial_Year       0\n",
       "Quarter_No           0\n",
       "Financial_Quarter    0\n",
       "Revenue_K            0\n",
       "PBT_K                0\n",
       "Net_Profit_K         0\n",
       "EPS_Cent             0\n",
       "Dividend_Cent        0\n",
       "NTA                  0\n",
       "YoY_percent          0\n",
       "Company_Code         0\n",
       "dtype: int64"
      ]
     },
     "execution_count": 59,
     "metadata": {},
     "output_type": "execute_result"
    }
   ],
   "source": [
    "quarter_remove_na.isnull().sum()"
   ]
  },
  {
   "cell_type": "code",
   "execution_count": 60,
   "metadata": {},
   "outputs": [],
   "source": [
    "quarter_remove_na.to_csv(\"Scraped_data_property_cleaned.csv\",sep = \"|\")"
   ]
  }
 ],
 "metadata": {
  "kernelspec": {
   "display_name": "Python 3",
   "language": "python",
   "name": "python3"
  },
  "language_info": {
   "codemirror_mode": {
    "name": "ipython",
    "version": 3
   },
   "file_extension": ".py",
   "mimetype": "text/x-python",
   "name": "python",
   "nbconvert_exporter": "python",
   "pygments_lexer": "ipython3",
   "version": "3.7.6"
  }
 },
 "nbformat": 4,
 "nbformat_minor": 4
}
